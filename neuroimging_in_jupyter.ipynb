{
 "cells": [
  {
   "cell_type": "markdown",
   "id": "1211f7d4-23c8-4870-835d-ebf831a0faf0",
   "metadata": {},
   "source": [
    "\n",
    "The second way is install a bash\\matlab\\octave kernel and write bash\\matlab\\octabe code in juypter notebooks.\n",
    "* This is a good way if you do not write Python code.\n",
    "\n",
    "This way has some disadvantages:\n",
    "* The bash kernel works fine but the MATLAB kernel is not well supported.\n",
    "* You can not use magic functions like you are using IPython, e.g. `!`\n",
    "* The plotting function may not be well supported, things will get a little bit tricky sometimes\n",
    "\n",
    "The third way is use official python package from FSL, like `fsleyes`, `fsl`.\n",
    "* These are official Python packages so it is reliable and tested and saves all the troubles above\n",
    "* There are a few handy functions that you can't find in original fsl or fsleyes\n",
    "\n",
    "However this way has a lethal shortcome that `fsl` does not warpped all the crucial functions you will need. There are only twenty or so warpped fsl functions in `fsl.warppers`. So you probably gonna end up in doing it in the first way or in terminal. Another shortcome is a few function like `fslmath`, `fslstat` are slightly different from the command line tools. This may be confusing sometimes."
   ]
  },
  {
   "cell_type": "markdown",
   "id": "90b0acb0-f706-4ac1-9985-6a63941d3e22",
   "metadata": {
    "tags": []
   },
   "source": [
    "# Method 2: Install Different Kernels for Jupyter"
   ]
  },
  {
   "cell_type": "markdown",
   "id": "d389310a-c3aa-41a8-b843-14b081a9d705",
   "metadata": {},
   "source": [
    "## Install Bash Kernel "
   ]
  },
  {
   "cell_type": "code",
   "execution_count": null,
   "id": "759fd0ca-937b-4991-a6e6-4d0ee320ceae",
   "metadata": {},
   "outputs": [],
   "source": [
    "%%!\n",
    "pip install bash_kernel\n",
    "python -m bash_kernel.install"
   ]
  },
  {
   "cell_type": "markdown",
   "id": "b8bc4106-faec-4165-b135-cb3c21fc87b7",
   "metadata": {},
   "source": [
    "## Matlab/Octave Kernel\n",
    "Many people says that matlab kernel does not work well, so you probably gonna need octave kernel. \n",
    "You can also look into [Matlab Kernel Github Page](https://github.com/calysto/matlab_kernel)"
   ]
  },
  {
   "cell_type": "code",
   "execution_count": null,
   "id": "4e14b832-3d54-4c70-a268-708a7156c4cc",
   "metadata": {},
   "outputs": [],
   "source": [
    "%%!\n",
    "### Matlab\n",
    "# Need to install Matlab first\n",
    "# Then run this:\n",
    "pip install matlab_kernel\n",
    "\n",
    "\n",
    "\n",
    "### Octave\n",
    "# Install through pip\n",
    "pip install octave_kernel\n",
    "\n",
    "# To install using conda:\n",
    "\n",
    "conda config --add channels conda-forge\n",
    "conda install octave_kernel\n",
    "conda install texinfo # For the inline documentation (shift-tab) to appear.\n"
   ]
  },
  {
   "cell_type": "markdown",
   "id": "450b74dd-ab76-4304-a816-49daa9f4275e",
   "metadata": {},
   "source": [
    "## Other Kernels\n",
    "Get more info from [here](https://github.com/jupyter/jupyter/wiki/Jupyter-kernels )"
   ]
  },
  {
   "cell_type": "markdown",
   "id": "7b7ec0aa-5a0c-4df1-94d4-531905c220fd",
   "metadata": {},
   "source": [
    "# Method 3: Use Offcial Python Package of FSL"
   ]
  },
  {
   "cell_type": "markdown",
   "id": "9a25a143-208b-43a7-9e89-c371b409fa91",
   "metadata": {
    "tags": []
   },
   "source": [
    "## `fslpy`\n",
    "**Check the documents here: https://open.win.ox.ac.uk/pages/fsl/fslpy/#**     \n",
    "\n",
    "fslpy provides a few handy functions like check BIDS eligiblity etc. \n",
    "\n",
    "And a few warpper of fsl function like `fsl.wrappers.bet`, `fsl.wrappers.fslmaths` etc.      \n",
    "\n",
    "Most of these wrapper functions strive to provide an interface which is as close as possible to the underlying command-line tool. Most functions use positional arguments\n",
    "for required options, and keyword arguments for all other options, with argument names equivalent to command line option names.\n",
    "\n",
    "For options where this is not possible (e.g. flirt -2D),an alias is used instead. Aliases may also be used to provide a more readable interface \n",
    "(e.g. the bet() function uses mask instead of m).\n",
    "\n",
    "For example: "
   ]
  },
  {
   "cell_type": "code",
   "execution_count": 18,
   "id": "d70b8b2a-809b-4ddd-9878-c711ab7e6e7e",
   "metadata": {},
   "outputs": [],
   "source": [
    "from fsl.wrappers import fsl_anat\n",
    "import numpy as np\n",
    "import os"
   ]
  },
  {
   "cell_type": "code",
   "execution_count": 19,
   "id": "524940a9-4f5c-416a-acaf-b747d78bff06",
   "metadata": {},
   "outputs": [
    {
     "data": {
      "text/plain": [
       "\u001b[0;31mSignature:\u001b[0m \u001b[0mfsl_anat\u001b[0m\u001b[0;34m(\u001b[0m\u001b[0mimg\u001b[0m\u001b[0;34m,\u001b[0m \u001b[0mout\u001b[0m\u001b[0;34m=\u001b[0m\u001b[0;34m'fsl_anat'\u001b[0m\u001b[0;34m,\u001b[0m \u001b[0;34m**\u001b[0m\u001b[0mkwargs\u001b[0m\u001b[0;34m)\u001b[0m\u001b[0;34m\u001b[0m\u001b[0;34m\u001b[0m\u001b[0m\n",
       "\u001b[0;31mSource:\u001b[0m   \n",
       "\u001b[0;34m@\u001b[0m\u001b[0mwutils\u001b[0m\u001b[0;34m.\u001b[0m\u001b[0mfileOrImage\u001b[0m\u001b[0;34m(\u001b[0m\u001b[0;34m'img'\u001b[0m\u001b[0;34m,\u001b[0m \u001b[0moutprefix\u001b[0m\u001b[0;34m=\u001b[0m\u001b[0;34m'out'\u001b[0m\u001b[0;34m)\u001b[0m\u001b[0;34m\u001b[0m\n",
       "\u001b[0;34m\u001b[0m\u001b[0;34m@\u001b[0m\u001b[0mwutils\u001b[0m\u001b[0;34m.\u001b[0m\u001b[0mfslwrapper\u001b[0m\u001b[0;34m\u001b[0m\n",
       "\u001b[0;34m\u001b[0m\u001b[0;32mdef\u001b[0m \u001b[0mfsl_anat\u001b[0m\u001b[0;34m(\u001b[0m\u001b[0mimg\u001b[0m\u001b[0;34m,\u001b[0m \u001b[0mout\u001b[0m\u001b[0;34m=\u001b[0m\u001b[0;34m'fsl_anat'\u001b[0m\u001b[0;34m,\u001b[0m \u001b[0;34m**\u001b[0m\u001b[0mkwargs\u001b[0m\u001b[0;34m)\u001b[0m\u001b[0;34m:\u001b[0m\u001b[0;34m\u001b[0m\n",
       "\u001b[0;34m\u001b[0m    \u001b[0;34m\"\"\"Wrapper for the ``fsl_anat`` command.\u001b[0m\n",
       "\u001b[0;34m\u001b[0m\n",
       "\u001b[0;34m    :arg img:       Input structural image\u001b[0m\n",
       "\u001b[0;34m    :arg out:       Output directory name\u001b[0m\n",
       "\u001b[0;34m    \"\"\"\u001b[0m\u001b[0;34m\u001b[0m\n",
       "\u001b[0;34m\u001b[0m    \u001b[0masrt\u001b[0m\u001b[0;34m.\u001b[0m\u001b[0massertIsNifti\u001b[0m\u001b[0;34m(\u001b[0m\u001b[0mimg\u001b[0m\u001b[0;34m)\u001b[0m\u001b[0;34m\u001b[0m\n",
       "\u001b[0;34m\u001b[0m\u001b[0;34m\u001b[0m\n",
       "\u001b[0;34m\u001b[0m    \u001b[0mvalmap\u001b[0m \u001b[0;34m=\u001b[0m \u001b[0;34m{\u001b[0m\u001b[0;34m\u001b[0m\n",
       "\u001b[0;34m\u001b[0m        \u001b[0;34m'strongbias'\u001b[0m \u001b[0;34m:\u001b[0m \u001b[0mwutils\u001b[0m\u001b[0;34m.\u001b[0m\u001b[0mSHOW_IF_TRUE\u001b[0m\u001b[0;34m,\u001b[0m\u001b[0;34m\u001b[0m\n",
       "\u001b[0;34m\u001b[0m        \u001b[0;34m'weakbias'\u001b[0m \u001b[0;34m:\u001b[0m \u001b[0mwutils\u001b[0m\u001b[0;34m.\u001b[0m\u001b[0mSHOW_IF_TRUE\u001b[0m\u001b[0;34m,\u001b[0m\u001b[0;34m\u001b[0m\n",
       "\u001b[0;34m\u001b[0m        \u001b[0;34m'noreorient'\u001b[0m \u001b[0;34m:\u001b[0m \u001b[0mwutils\u001b[0m\u001b[0;34m.\u001b[0m\u001b[0mSHOW_IF_TRUE\u001b[0m\u001b[0;34m,\u001b[0m\u001b[0;34m\u001b[0m\n",
       "\u001b[0;34m\u001b[0m        \u001b[0;34m'nocrop'\u001b[0m \u001b[0;34m:\u001b[0m \u001b[0mwutils\u001b[0m\u001b[0;34m.\u001b[0m\u001b[0mSHOW_IF_TRUE\u001b[0m\u001b[0;34m,\u001b[0m\u001b[0;34m\u001b[0m\n",
       "\u001b[0;34m\u001b[0m        \u001b[0;34m'nobias'\u001b[0m \u001b[0;34m:\u001b[0m \u001b[0mwutils\u001b[0m\u001b[0;34m.\u001b[0m\u001b[0mSHOW_IF_TRUE\u001b[0m\u001b[0;34m,\u001b[0m\u001b[0;34m\u001b[0m\n",
       "\u001b[0;34m\u001b[0m        \u001b[0;34m'noreg'\u001b[0m \u001b[0;34m:\u001b[0m \u001b[0mwutils\u001b[0m\u001b[0;34m.\u001b[0m\u001b[0mSHOW_IF_TRUE\u001b[0m\u001b[0;34m,\u001b[0m\u001b[0;34m\u001b[0m\n",
       "\u001b[0;34m\u001b[0m        \u001b[0;34m'nononlinreg'\u001b[0m \u001b[0;34m:\u001b[0m \u001b[0mwutils\u001b[0m\u001b[0;34m.\u001b[0m\u001b[0mSHOW_IF_TRUE\u001b[0m\u001b[0;34m,\u001b[0m\u001b[0;34m\u001b[0m\n",
       "\u001b[0;34m\u001b[0m        \u001b[0;34m'noseg'\u001b[0m \u001b[0;34m:\u001b[0m \u001b[0mwutils\u001b[0m\u001b[0;34m.\u001b[0m\u001b[0mSHOW_IF_TRUE\u001b[0m\u001b[0;34m,\u001b[0m\u001b[0;34m\u001b[0m\n",
       "\u001b[0;34m\u001b[0m        \u001b[0;34m'nosubcortseg'\u001b[0m \u001b[0;34m:\u001b[0m \u001b[0mwutils\u001b[0m\u001b[0;34m.\u001b[0m\u001b[0mSHOW_IF_TRUE\u001b[0m\u001b[0;34m,\u001b[0m\u001b[0;34m\u001b[0m\n",
       "\u001b[0;34m\u001b[0m        \u001b[0;34m'nosearch'\u001b[0m \u001b[0;34m:\u001b[0m \u001b[0mwutils\u001b[0m\u001b[0;34m.\u001b[0m\u001b[0mSHOW_IF_TRUE\u001b[0m\u001b[0;34m,\u001b[0m\u001b[0;34m\u001b[0m\n",
       "\u001b[0;34m\u001b[0m        \u001b[0;34m'nocleanup'\u001b[0m \u001b[0;34m:\u001b[0m \u001b[0mwutils\u001b[0m\u001b[0;34m.\u001b[0m\u001b[0mSHOW_IF_TRUE\u001b[0m\u001b[0;34m,\u001b[0m\u001b[0;34m\u001b[0m\n",
       "\u001b[0;34m\u001b[0m    \u001b[0;34m}\u001b[0m\u001b[0;34m\u001b[0m\n",
       "\u001b[0;34m\u001b[0m\u001b[0;34m\u001b[0m\n",
       "\u001b[0;34m\u001b[0m    \u001b[0margmap\u001b[0m \u001b[0;34m=\u001b[0m \u001b[0;34m{\u001b[0m\u001b[0;34m\u001b[0m\n",
       "\u001b[0;34m\u001b[0m    \u001b[0;34m}\u001b[0m\u001b[0;34m\u001b[0m\n",
       "\u001b[0;34m\u001b[0m\u001b[0;34m\u001b[0m\n",
       "\u001b[0;34m\u001b[0m    \u001b[0mimg_type\u001b[0m \u001b[0;34m=\u001b[0m \u001b[0mkwargs\u001b[0m\u001b[0;34m.\u001b[0m\u001b[0mpop\u001b[0m\u001b[0;34m(\u001b[0m\u001b[0;34m\"img_type\"\u001b[0m\u001b[0;34m,\u001b[0m \u001b[0;34m\"T1\"\u001b[0m\u001b[0;34m)\u001b[0m\u001b[0;34m\u001b[0m\n",
       "\u001b[0;34m\u001b[0m    \u001b[0mcmd\u001b[0m  \u001b[0;34m=\u001b[0m \u001b[0;34m[\u001b[0m\u001b[0;34m'fsl_anat'\u001b[0m\u001b[0;34m,\u001b[0m \u001b[0;34m'-i'\u001b[0m\u001b[0;34m,\u001b[0m \u001b[0mimg\u001b[0m\u001b[0;34m,\u001b[0m \u001b[0;34m'-o'\u001b[0m\u001b[0;34m,\u001b[0m \u001b[0mout\u001b[0m\u001b[0;34m,\u001b[0m \u001b[0;34m'-t'\u001b[0m\u001b[0;34m,\u001b[0m \u001b[0mimg_type\u001b[0m\u001b[0;34m]\u001b[0m\u001b[0;34m\u001b[0m\n",
       "\u001b[0;34m\u001b[0m    \u001b[0msmoothing\u001b[0m \u001b[0;34m=\u001b[0m \u001b[0mkwargs\u001b[0m\u001b[0;34m.\u001b[0m\u001b[0mpop\u001b[0m\u001b[0;34m(\u001b[0m\u001b[0;34m\"bias_smoothing\"\u001b[0m\u001b[0;34m,\u001b[0m \u001b[0;32mNone\u001b[0m\u001b[0;34m)\u001b[0m\u001b[0;34m\u001b[0m\n",
       "\u001b[0;34m\u001b[0m    \u001b[0;32mif\u001b[0m \u001b[0msmoothing\u001b[0m \u001b[0;32mis\u001b[0m \u001b[0;32mnot\u001b[0m \u001b[0;32mNone\u001b[0m\u001b[0;34m:\u001b[0m\u001b[0;34m\u001b[0m\n",
       "\u001b[0;34m\u001b[0m        \u001b[0mcmd\u001b[0m \u001b[0;34m+=\u001b[0m \u001b[0;34m[\u001b[0m\u001b[0;34m'-s'\u001b[0m\u001b[0;34m,\u001b[0m \u001b[0mstr\u001b[0m\u001b[0;34m(\u001b[0m\u001b[0msmoothing\u001b[0m\u001b[0;34m)\u001b[0m\u001b[0;34m]\u001b[0m\u001b[0;34m\u001b[0m\n",
       "\u001b[0;34m\u001b[0m\u001b[0;34m\u001b[0m\n",
       "\u001b[0;34m\u001b[0m    \u001b[0mcmd\u001b[0m \u001b[0;34m+=\u001b[0m \u001b[0mwutils\u001b[0m\u001b[0;34m.\u001b[0m\u001b[0mapplyArgStyle\u001b[0m\u001b[0;34m(\u001b[0m\u001b[0;34m'--='\u001b[0m\u001b[0;34m,\u001b[0m\u001b[0;34m\u001b[0m\n",
       "\u001b[0;34m\u001b[0m                                \u001b[0mvalmap\u001b[0m\u001b[0;34m=\u001b[0m\u001b[0mvalmap\u001b[0m\u001b[0;34m,\u001b[0m\u001b[0;34m\u001b[0m\n",
       "\u001b[0;34m\u001b[0m                                \u001b[0margmap\u001b[0m\u001b[0;34m=\u001b[0m\u001b[0margmap\u001b[0m\u001b[0;34m,\u001b[0m\u001b[0;34m\u001b[0m\n",
       "\u001b[0;34m\u001b[0m                                \u001b[0msinglechar_args\u001b[0m\u001b[0;34m=\u001b[0m\u001b[0;32mTrue\u001b[0m\u001b[0;34m,\u001b[0m\u001b[0;34m\u001b[0m\n",
       "\u001b[0;34m\u001b[0m                                \u001b[0;34m**\u001b[0m\u001b[0mkwargs\u001b[0m\u001b[0;34m)\u001b[0m\u001b[0;34m\u001b[0m\n",
       "\u001b[0;34m\u001b[0m\u001b[0;34m\u001b[0m\n",
       "\u001b[0;34m\u001b[0m    \u001b[0;32mreturn\u001b[0m \u001b[0mcmd\u001b[0m\u001b[0;34m\u001b[0m\u001b[0;34m\u001b[0m\u001b[0m\n",
       "\u001b[0;31mFile:\u001b[0m      ~/anaconda3/lib/python3.8/site-packages/fsl/wrappers/fsl_anat.py\n",
       "\u001b[0;31mType:\u001b[0m      function\n"
      ]
     },
     "metadata": {},
     "output_type": "display_data"
    }
   ],
   "source": [
    "fsl_anat??"
   ]
  },
  {
   "cell_type": "code",
   "execution_count": 20,
   "id": "e995a192-2dbe-4875-b5f8-b73b9dc91403",
   "metadata": {},
   "outputs": [],
   "source": [
    "base_dir = 'example_data/'\n",
    "output_basename = 'example_data/ses-1'\n",
    "fslanat_dir = output_basename + '.anat'\n",
    "!rm -rf $fslanat_dir\n",
    "for sub in folders:\n",
    "    anat_folder = base_dir + sub + '/ses-1/anat/'\n",
    "    t1_img = anat_folder + sub + '_ses-1_T1w.nii.gz'\n",
    "    continue # Save your time here\n",
    "    fsl_anat(t1_img,output_basename, 'noreorient', 'nocrop', 'nobias', 'noreg','nononlinreg','noseg','nosubcortseg','nosearch')"
   ]
  },
  {
   "cell_type": "markdown",
   "id": "d3ef8594-1b64-442b-aff7-586c14324abd",
   "metadata": {},
   "source": [
    "## `fsleyes`\n",
    "Normally, this is unnecessary for most of the users. \n",
    "\n",
    "If you want to develope something based on fsleyes or you do need to interact with fsleyes using python, you can look into `fsleyes`. \n",
    "This pacakge may be helpful if you got too many files to go through in the GUI. Since you can add/delete/modify an image from the Python kernel."
   ]
  },
  {
   "cell_type": "code",
   "execution_count": 21,
   "id": "ec07d0ee-6950-4b67-ae17-5170d734f6e1",
   "metadata": {},
   "outputs": [
    {
     "name": "stderr",
     "output_type": "stream",
     "text": [
      "Gtk-Message: 16:05:08.588: Failed to load module \"canberra-gtk-module\"\n",
      "Gtk-Message: 16:05:08.588: Failed to load module \"pk-gtk-module\"\n"
     ]
    }
   ],
   "source": [
    "%gui wx\n",
    "# Must enable this frist otherwise the kernel will fail if you run fsleyes library without this"
   ]
  },
  {
   "cell_type": "code",
   "execution_count": 23,
   "id": "6ccb4eca-7874-42d7-8767-1fb13cc06157",
   "metadata": {},
   "outputs": [
    {
     "data": {
      "text/plain": [
       "True"
      ]
     },
     "execution_count": 23,
     "metadata": {},
     "output_type": "execute_result"
    }
   ],
   "source": [
    "import fsleyes\n",
    "overlayList, displayCtx, frame = fsleyes.embed()\n",
    "frame.Show()"
   ]
  },
  {
   "cell_type": "code",
   "execution_count": 24,
   "id": "6ce4fdc9-0275-4e39-a1e8-ce1f01574269",
   "metadata": {},
   "outputs": [],
   "source": [
    "import os.path as op\n",
    "from fsleyes.views.orthopanel import OrthoPanel\n",
    "from fsl.data.image import Image\n",
    "\n",
    "ortho = frame.addViewPanel(OrthoPanel)\n",
    "\n",
    "overlayList.append(Image(op.expandvars('$FSLDIR/data/standard/MNI152_T1_2mm')))"
   ]
  },
  {
   "cell_type": "code",
   "execution_count": 25,
   "id": "b48d85d0-2c4f-4720-9a80-15f651fbab29",
   "metadata": {},
   "outputs": [],
   "source": [
    "displayCtx.getOpts(overlayList[0]).cmap = 'Red'"
   ]
  },
  {
   "cell_type": "markdown",
   "id": "8003828f-6237-4828-9c3d-e918366d50dc",
   "metadata": {},
   "source": [
    "# Advanced Usage of IPython and Jupyter\n",
    "If you are using the first way, there are some more IPython magic functions can be really helpful and make things easier for you. "
   ]
  },
  {
   "cell_type": "markdown",
   "id": "dd9469e5-22a0-4945-bb18-a9a23b6e2ca2",
   "metadata": {},
   "source": [
    "## Change working directory\n",
    "Note that `!cd` doesn't change your working directory !command runs is immediately discarded after executing 'command'.\n",
    "\n",
    "You gonna need `os` pacakge or `%cd` command"
   ]
  },
  {
   "cell_type": "code",
   "execution_count": 26,
   "id": "6e390934-0fff-4970-b7d6-0b21a2dd5fc5",
   "metadata": {
    "tags": []
   },
   "outputs": [
    {
     "name": "stdout",
     "output_type": "stream",
     "text": [
      "/home/jzni/fsl_jupyter\n",
      "/home/jzni/fsl_jupyter/example_data\n",
      "/home/jzni/fsl_jupyter/example_data\n",
      "/home/jzni/fsl_jupyter\n",
      "/home/jzni/fsl_jupyter\n",
      "/home/jzni/fsl_jupyter\n"
     ]
    }
   ],
   "source": [
    "# Use %cd to chance it like you do it in command line\n",
    "# Note that !cd doesn't change your working directory !command runs is immediately discarded after executing 'command'.\n",
    "import os \n",
    "def pwd():\n",
    "    return os.getcwd()\n",
    "\n",
    "# Valid Change\n",
    "print(pwd())\n",
    "%cd example_data\n",
    "print(pwd())\n",
    "%cd ..\n",
    "\n",
    "# Invalid Change\n",
    "print(pwd())\n",
    "!cd example_data\n",
    "print(pwd())"
   ]
  },
  {
   "cell_type": "markdown",
   "id": "76a7c590-2e7d-41e8-9ce1-f678dbbe1a4d",
   "metadata": {},
   "source": [
    "## Check the variable space\n",
    "### `%who`, `%who_ls`, `%whos`"
   ]
  },
  {
   "cell_type": "code",
   "execution_count": 27,
   "id": "0ba3a184-8841-4f64-af43-7cefd119bdab",
   "metadata": {},
   "outputs": [
    {
     "name": "stdout",
     "output_type": "stream",
     "text": [
      "Image\t OrthoPanel\t anat_folder\t base_dir\t direct\t displayCtx\t ex_img_dir\t folders\t frame\t \n",
      "fsl_anat\t fslanat_dir\t fsleyes\t ls\t np\t op\t ortho\t os\t output_basename\t \n",
      "overlayList\t path\t pwd\t sub\t t1_img\t \n"
     ]
    }
   ],
   "source": [
    "# prints out the variables in current space\n",
    "%who "
   ]
  },
  {
   "cell_type": "code",
   "execution_count": 28,
   "id": "fe2692ff-544e-4a5e-925d-a7d9666ca1f5",
   "metadata": {},
   "outputs": [
    {
     "data": {
      "text/plain": [
       "['Image',\n",
       " 'OrthoPanel',\n",
       " 'anat_folder',\n",
       " 'base_dir',\n",
       " 'direct',\n",
       " 'displayCtx',\n",
       " 'ex_img_dir',\n",
       " 'folders',\n",
       " 'frame',\n",
       " 'fsl_anat',\n",
       " 'fslanat_dir',\n",
       " 'fsleyes',\n",
       " 'ls',\n",
       " 'np',\n",
       " 'op',\n",
       " 'ortho',\n",
       " 'os',\n",
       " 'output_basename',\n",
       " 'overlayList',\n",
       " 'path',\n",
       " 'pwd',\n",
       " 'sub',\n",
       " 't1_img']"
      ]
     },
     "execution_count": 28,
     "metadata": {},
     "output_type": "execute_result"
    }
   ],
   "source": [
    "# returns a list of variables in current space\n",
    "%who_ls "
   ]
  },
  {
   "cell_type": "code",
   "execution_count": 29,
   "id": "b2431306-62e9-4a7c-a8a6-d57e1843ade0",
   "metadata": {},
   "outputs": [
    {
     "name": "stdout",
     "output_type": "stream",
     "text": [
      "Variable          Type              Data/Info\n",
      "---------------------------------------------\n",
      "Image             type              <class 'fsl.data.image.Image'>\n",
      "OrthoPanel        wrappertype       <class 'fsleyes.views.orthopanel.OrthoPanel'>\n",
      "anat_folder       str               example_data/vbm/ses-1/anat/\n",
      "base_dir          str               example_data/\n",
      "direct            SList             ['/home/jzni/fsl_jupyter']\n",
      "displayCtx        DisplayContext    DisplayContext\\n         <...>8906, 17.999900817871094]\n",
      "ex_img_dir        str               example_data/sub-101/ses-<...>/sub-101_ses-1_T1w.nii.gz\n",
      "folders           SList             ['participants.tsv', 'sub<...>-202', 'T1w.json', 'vbm']\n",
      "frame             FSLeyesFrame      <fsleyes.frame.FSLeyesFra<...>object at 0x7fa6d2003ca0>\n",
      "fsl_anat          function          <function fsl_anat at 0x7fa6e1d00af0>\n",
      "fslanat_dir       str               example_data/ses-1.anat\n",
      "fsleyes           module            <module 'fsleyes' from '/<...>ges/fsleyes/__init__.py'>\n",
      "ls                SList             ['example_data/participan<...>son', 'example_data/vbm']\n",
      "np                module            <module 'numpy' from '/ho<...>kages/numpy/__init__.py'>\n",
      "op                module            <module 'posixpath' from <...>/python3.8/posixpath.py'>\n",
      "ortho             OrthoPanel        OrthoPanel\\n           mo<...> syncOverlayVolume = True\n",
      "os                module            <module 'os' from '/home/<...>da3/lib/python3.8/os.py'>\n",
      "output_basename   str               example_data/ses-1\n",
      "overlayList       OverlayList       [Image(MNI152_T1_2mm, /ho<...>rd/MNI152_T1_2mm.nii.gz)]\n",
      "path              module            <module 'path' from '/hom<...>ckages/path/__init__.py'>\n",
      "pwd               function          <function pwd at 0x7fa6c87bde50>\n",
      "sub               str               vbm\n",
      "t1_img            str               example_data/vbm/ses-1/anat/vbm_ses-1_T1w.nii.gz\n"
     ]
    }
   ],
   "source": [
    "# returns a table of variables in current space with their properties\n",
    "%whos "
   ]
  },
  {
   "cell_type": "markdown",
   "id": "083005bb-adbb-4a51-b32d-c693ebbf9d80",
   "metadata": {},
   "source": [
    "## Time your code"
   ]
  },
  {
   "cell_type": "markdown",
   "id": "67d7bb02-bdc5-45c6-9756-a412d61e104e",
   "metadata": {},
   "source": [
    "\n",
    "### `%time `\n",
    "Time execution of a Python statement or expression.\n",
    "    \n",
    "The CPU and wall clock times are printed, and the value of the expression (if any) is returned.  \n",
    " \n",
    "This function can be used both as a line and cell magic:\n",
    "- In line mode you can time a single-line statement (though multiple ones can be chained with using semicolons).\n",
    "    \n",
    "- In cell mode, you can time the cell body (a directly following statement raises an error).\n",
    "\n",
    "Check the document of `%timeit` to control the timing process\n",
    "\n",
    "Use `%%time` `%%timeit` for cell timing"
   ]
  },
  {
   "cell_type": "code",
   "execution_count": 30,
   "id": "8299d0d7-6422-4709-8325-7a970e7caee4",
   "metadata": {},
   "outputs": [
    {
     "name": "stdout",
     "output_type": "stream",
     "text": [
      "CPU times: user 1.79 ms, sys: 1.38 ms, total: 3.16 ms\n",
      "Wall time: 3 s\n"
     ]
    }
   ],
   "source": [
    "%%time\n",
    "import time\n",
    "time.sleep(3)"
   ]
  },
  {
   "cell_type": "markdown",
   "id": "9733f848-ad3d-4454-b288-6b2213c1097a",
   "metadata": {},
   "source": [
    "## Save your variable to the Iypthon kernel"
   ]
  },
  {
   "cell_type": "markdown",
   "id": "7a55a1f9-b3f1-4a66-94f5-60c80de77d06",
   "metadata": {},
   "source": [
    "### `%store`:\n",
    "Lightweight persistence for python variables.\n",
    "``` python\n",
    "    Example::\n",
    "    \n",
    "      In [1]: l = ['hello',10,'world']\n",
    "      In [2]: %store l\n",
    "      In [3]: exit\n",
    "    \n",
    "      (IPython session is closed and started again...)\n",
    "    \n",
    "      ville@badger:~$ ipython\n",
    "      In [1]: l\n",
    "      NameError: name 'l' is not defined\n",
    "      In [2]: %store -r\n",
    "      In [3]: l\n",
    "      Out[3]: ['hello', 10, 'world']\n",
    "```\n",
    "\n",
    "Usage:\n",
    "    \n",
    "* `%store`          - Show list of all variables and their current values\n",
    "* `%store spam bar` - Store the *current* value of the variables spam and bar to disk\n",
    "* `%store -d spam`  - Remove the variable and its value from storage\n",
    "* `%store -z`       - Remove all variables from storage\n",
    "* `%store -r`       - Refresh all variables, aliases and directory history from store (overwrite current vals)\n",
    "* `%store -r spam bar` - Refresh specified variables and aliases from store (delete current val)\n",
    "* `%store foo >a.txt`  - Store value of foo to new file a.txt\n",
    "* `%store foo >>a.txt` - Append value of foo to file a.txt\n",
    "    \n",
    "    It should be noted that if you change the value of a variable, you\n",
    "    need to `%store` it again if you want to persist the new value.\n",
    "    \n",
    "    Note also that the variables will need to be pickleable; most basic\n",
    "    python types can be safely `%store`d.\n",
    "    \n",
    "    Also aliases can be `%store`d across sessions.\n",
    "    To remove an alias from the storage, use the %unalias magic."
   ]
  },
  {
   "cell_type": "markdown",
   "id": "2998303f-3a96-4aa3-9328-e0efe1c56fd7",
   "metadata": {},
   "source": [
    "## Hide Inputs or Outputs\n",
    "Sometimes you may want to hide the output, for example, if you are running `randomise` there will be a long output. \n",
    "There are a few ways to do it:\n",
    "1. Click the bar besides the output to toggle it. But it will be untoggled if you run the notebook again\n",
    "2. Look into a opensource project called `jupyter book`, it embeded some features that can help you do that.\n",
    "3. **Recommended** Use the function showed below. This code is written by Conchylicultor from stack overflow. Click [here](https://stackoverflow.com/questions/37154329/jupyter-notebook-command-for-hide-the-output-of-a-cell) to check the original question"
   ]
  },
  {
   "cell_type": "code",
   "execution_count": 31,
   "id": "6ae999cd-31b3-46a6-ac28-b28736e0b526",
   "metadata": {},
   "outputs": [],
   "source": [
    "import contextlib\n",
    "import io\n",
    "import IPython.display\n",
    "\n",
    "\n",
    "@contextlib.contextmanager\n",
    "def colapsible_stdout(name: str = 'stdout'):\n",
    "    f = io.StringIO()\n",
    "    with contextlib.redirect_stdout(f):\n",
    "        yield\n",
    "        content = f.getvalue()\n",
    "        content = content.replace('\\n', '<br/>')\n",
    "        content = IPython.display.HTML(\n",
    "          f'<details><summary>{name}</summary>{content}</details>'\n",
    "        )\n",
    "    IPython.display.display(content)\n"
   ]
  },
  {
   "cell_type": "code",
   "execution_count": 32,
   "id": "9d95a2bf-8ee5-4766-a782-1a2d48cad759",
   "metadata": {},
   "outputs": [
    {
     "data": {
      "text/html": [
       "<details><summary>Hide print</summary>Some text<br/>Some other text<br/></details>"
      ],
      "text/plain": [
       "<IPython.core.display.HTML object>"
      ]
     },
     "metadata": {},
     "output_type": "display_data"
    }
   ],
   "source": [
    "with colapsible_stdout(\"Hide print\"):\n",
    "    print('Some text')\n",
    "    print('Some other text')"
   ]
  },
  {
   "cell_type": "markdown",
   "id": "732ec08f-80c5-4673-9401-28ef659c2795",
   "metadata": {
    "tags": []
   },
   "source": [
    "## Interact with HTML file in your notebook"
   ]
  },
  {
   "cell_type": "markdown",
   "id": "59bf100e-a8fc-4049-84a9-6c57bce5376b",
   "metadata": {
    "tags": []
   },
   "source": [
    "### Open a html file or an url (if you are in Unix)"
   ]
  },
  {
   "cell_type": "code",
   "execution_count": 37,
   "id": "3712583f-bd33-4b89-a648-6485378482c4",
   "metadata": {},
   "outputs": [],
   "source": [
    "f_name = 'example_data/vbm/struc/slicesdir/index.html'"
   ]
  },
  {
   "cell_type": "code",
   "execution_count": 35,
   "id": "5824b39c-5beb-4c4a-a054-90dd05789751",
   "metadata": {},
   "outputs": [
    {
     "name": "stdout",
     "output_type": "stream",
     "text": [
      "\n",
      "###!!! [Parent][RunMessage] Error: Channel closing: too late to send/recv, messages will be lost\n",
      "\n",
      "Opening in existing browser session.\n"
     ]
    }
   ],
   "source": [
    "!firefox example_data/vbm/struc/slicesdir/index.html\n",
    "!google-chrome example_data/vbm/struc/slicesdir/index.html"
   ]
  },
  {
   "cell_type": "markdown",
   "id": "60c603e0-edae-43e9-8e78-fb64bd7883c6",
   "metadata": {},
   "source": [
    "### Embed html in your notebook"
   ]
  },
  {
   "cell_type": "code",
   "execution_count": 38,
   "id": "4894f3fa-368f-47f6-a341-3c89f41a0c44",
   "metadata": {},
   "outputs": [
    {
     "data": {
      "text/html": [
       "<HTML><TITLE>slicedir</TITLE><BODY BGCOLOR=\"#aaaaff\">\n",
       "<a href=\"sub-101_struc_to_sub-101_struc_brain.png\"><img src=\"sub-101_struc_to_sub-101_struc_brain.png\" WIDTH=2000 > sub-101_struc_to_sub-101_struc_brain</a><br>\n",
       "<a href=\"sub-102_struc_to_sub-102_struc_brain.png\"><img src=\"sub-102_struc_to_sub-102_struc_brain.png\" WIDTH=2000 > sub-102_struc_to_sub-102_struc_brain</a><br>\n",
       "<a href=\"sub-201_struc_to_sub-201_struc_brain.png\"><img src=\"sub-201_struc_to_sub-201_struc_brain.png\" WIDTH=2000 > sub-201_struc_to_sub-201_struc_brain</a><br>\n",
       "<a href=\"sub-202_struc_to_sub-202_struc_brain.png\"><img src=\"sub-202_struc_to_sub-202_struc_brain.png\" WIDTH=2000 > sub-202_struc_to_sub-202_struc_brain</a><br>\n",
       "</BODY></HTML>\n"
      ],
      "text/plain": [
       "<IPython.core.display.HTML object>"
      ]
     },
     "metadata": {},
     "output_type": "display_data"
    }
   ],
   "source": [
    "# Method 1\n",
    "from IPython.display import display\n",
    "from IPython.display import HTML\n",
    "import os \n",
    "\n",
    "display(HTML(filename=f_name))"
   ]
  },
  {
   "cell_type": "code",
   "execution_count": 39,
   "id": "e94d976d-5ef7-4dc1-b2b3-fe6cb216aeb8",
   "metadata": {},
   "outputs": [
    {
     "data": {
      "text/html": [
       "# Method 2: write your html code here using this cell magic\n"
      ],
      "text/plain": [
       "<IPython.core.display.HTML object>"
      ]
     },
     "metadata": {},
     "output_type": "display_data"
    }
   ],
   "source": [
    "%%html\n",
    "# Method 2: write your html code here using this cell magic"
   ]
  },
  {
   "cell_type": "markdown",
   "id": "f42d50b7-3948-4d40-90f8-e05a31e4c236",
   "metadata": {},
   "source": [
    "## Other magic functions"
   ]
  },
  {
   "cell_type": "markdown",
   "id": "b5ea70d2-6570-4a8b-bcd7-96746ca7af16",
   "metadata": {
    "jp-MarkdownHeadingCollapsed": true,
    "tags": []
   },
   "source": [
    "### `%set_env`:\n",
    "Set environment variables.  Assumptions are that either \"val\" is a name in the user namespace, or val is something that evaluates to a string.\n",
    "    \n",
    "Usage:\n",
    "* `%set_env var val`: set value for var\n",
    "* `%set_env var=val`: set value for var\n",
    "* `%set_env var=$val`: set value for var, using python expansion if possible\n"
   ]
  },
  {
   "cell_type": "markdown",
   "id": "8627f5ec-3c28-42f9-9b85-b16c0e040732",
   "metadata": {},
   "source": [
    "### Check the corrected images"
   ]
  },
  {
   "cell_type": "code",
   "execution_count": 60,
   "id": "a07700a8-bda0-4386-b6b6-80e07e40bf0c",
   "metadata": {},
   "outputs": [],
   "source": [
    "from ipywidgets import interactive, interact, HBox, Layout,VBox,widgets\n",
    "import nibabel as nib\n",
    "from matplotlib import pyplot as plt"
   ]
  },
  {
   "cell_type": "code",
   "execution_count": 61,
   "id": "bbb4638c-3c7c-4e79-9996-aa2896b5e805",
   "metadata": {
    "tags": []
   },
   "outputs": [
    {
     "data": {
      "application/vnd.jupyter.widget-view+json": {
       "model_id": "67ce06b3b4e94f00ab365f863ec50a22",
       "version_major": 2,
       "version_minor": 0
      },
      "text/plain": [
       "interactive(children=(Dropdown(description='Number:', options=('sub-101', 'sub-102', 'sub-201', 'sub-202'), va…"
      ]
     },
     "metadata": {},
     "output_type": "display_data"
    }
   ],
   "source": [
    "# Interact Funciton\n",
    "ending = \"nii.gz\"\n",
    "sub_list = ['sub-101', 'sub-102', 'sub-201','sub-202']\n",
    "@widgets.interact\n",
    "def choose_img(\n",
    "    subject=widgets.Dropdown(\n",
    "    options=sub_list,\n",
    "    value='sub-101',\n",
    "    description='Number:',\n",
    "    disabled=False,)\n",
    "):    \n",
    "    subject = str(subject)\n",
    "    img_dir = '{}.{}'.format(subject,ending)\n",
    "    img_data = read_img(img_dir)\n",
    "    x_max = img_data[:,0,0].shape[0]\n",
    "    y_max = img_data[0,:,0].shape[0]\n",
    "    z_max = img_data[0,0,:].shape[0]\n",
    "    @widgets.interact\n",
    "    def plot_nib(\n",
    "        x = widgets.IntSlider(min=0, max=x_max-1, step=1, value=x_max//2),\n",
    "        y = widgets.IntSlider(min=0, max=y_max-1, step=1, value=y_max//2),\n",
    "        z = widgets.IntSlider(min=0, max=z_max-1, step=1, value=z_max//2)\n",
    "    ):\n",
    "        slice_0 = img_data[x, :, :]\n",
    "        slice_1 = img_data[:, y, :]\n",
    "        slice_2 = img_data[:, :, z]\n",
    "        slices = [slice_0, slice_1, slice_2]\n",
    "        fig, axes = plt.subplots(1, len(slices),figsize=((20,20)))\n",
    "        for i, slice in enumerate(slices):\n",
    "            axes[i].imshow(slice.T, cmap=\"gray\", origin=\"lower\")    \n",
    "        \n",
    "\n"
   ]
  },
  {
   "cell_type": "markdown",
   "id": "4723b3fd-5d46-4ede-9c53-ea67288ca126",
   "metadata": {
    "tags": []
   },
   "source": [
    "## Statistical analysis"
   ]
  },
  {
   "cell_type": "markdown",
   "id": "59919f16-f053-464e-80fa-1861f084d747",
   "metadata": {
    "tags": []
   },
   "source": [
    "### Sooth the data"
   ]
  },
  {
   "cell_type": "code",
   "execution_count": 76,
   "id": "92bd48ee-3fbd-4801-9745-048db91c8e55",
   "metadata": {},
   "outputs": [],
   "source": [
    "!fslmaths stats/GM_mod_merg -s 5 stats/GM_mod_merg_s5"
   ]
  },
  {
   "cell_type": "markdown",
   "id": "15fb5d5a-0127-47f5-80b9-220e4a825d88",
   "metadata": {},
   "source": [
    "### Randomise"
   ]
  },
  {
   "cell_type": "code",
   "execution_count": 77,
   "id": "99ddbeaa-5c01-4ac5-950c-02387b5901ca",
   "metadata": {},
   "outputs": [
    {
     "data": {
      "text/html": [
       "<details><summary>fslvbm_3_proc</summary>randomise options: -i stats/GM_mod_merg_s5.nii.gz -m stats/GM_mask.nii.gz -o stats/s5 -d stats/design.mat -t stats/design.con -T -n 5000 \r",
       "<br/>Loading Data: \r",
       "<br/>Data loaded\r",
       "<br/>6 permutations required for exhaustive test of t-test 1\r",
       "<br/>Doing all 6 unique permutations\r",
       "<br/>Starting permutation 1 (Unpermuted data)\r",
       "<br/>Starting permutation 2\r",
       "<br/>Starting permutation 3\r",
       "<br/>Starting permutation 4\r",
       "<br/>Starting permutation 5\r",
       "<br/>Starting permutation 6\r",
       "<br/>Critical Value for: stats/s5_tfce_tstat1 is: 1.94901e+08\r",
       "<br/>6 permutations required for exhaustive test of t-test 2\r",
       "<br/>Doing all 6 unique permutations\r",
       "<br/>Starting permutation 1 (Unpermuted data)\r",
       "<br/>Starting permutation 2\r",
       "<br/>Starting permutation 3\r",
       "<br/>Starting permutation 4\r",
       "<br/>Starting permutation 5\r",
       "<br/>Starting permutation 6\r",
       "<br/>Critical Value for: stats/s5_tfce_tstat2 is: 1.94844e+08\r",
       "<br/>Finished, exiting.\r",
       "<br/></details>"
      ],
      "text/plain": [
       "<IPython.core.display.HTML object>"
      ]
     },
     "metadata": {},
     "output_type": "display_data"
    },
    {
     "name": "stdout",
     "output_type": "stream",
     "text": [
      "CPU times: user 13.9 ms, sys: 13.4 ms, total: 27.3 ms\n",
      "Wall time: 1.19 s\n"
     ]
    }
   ],
   "source": [
    "%%time\n",
    "\n",
    "smooth=\"GM_mod_merg_s5.nii.gz\" ;\n",
    "output_name = \"s5\" ;\n",
    "# TFCE_based thresholding\n",
    "with colapsible_stdout(\"fslvbm_3_proc\"):\n",
    "    !randomise -i stats/{smooth} -m stats/GM_mask.nii.gz -o stats/{output_name} -d stats/design.mat -t stats/design.con -T -n 5000 \n"
   ]
  },
  {
   "cell_type": "markdown",
   "id": "8efec93d-12d8-4819-93e7-305ab7cd0002",
   "metadata": {},
   "source": [
    "### Check results"
   ]
  },
  {
   "cell_type": "code",
   "execution_count": 78,
   "id": "92c268ab-62bd-4c54-bdc9-de69134bea1f",
   "metadata": {},
   "outputs": [
    {
     "name": "stdout",
     "output_type": "stream",
     "text": [
      "unrecognized arguments: s5_tfce_corrp_tstat1 -cm red-yellow s5_tfce_corrp_tstat2 -cm blue-lightblue\n",
      "FSLeyes version 1.3.0\n",
      "Usage: fsleyes [options] file [displayOpts] file [displayOpts] ...\n"
     ]
    }
   ],
   "source": [
    "!fsleyes -std s5_tfce_corrp_tstat1 -cm \"red-yellow\" s5_tfce_corrp_tstat2 -cm \"blue-lightblue\"  "
   ]
  },
  {
   "cell_type": "code",
   "execution_count": null,
   "id": "79211522-6759-47fe-b41e-d3fd7c4fc8e8",
   "metadata": {},
   "outputs": [],
   "source": [
    "!fsleyes -std s5_tstat1 -cm \"red-yellow\"       -dr 3.1 5 \\\n",
    "              s5_tstat2 -cm \"blue-lightblue\"   -dr 3.1 5"
   ]
  },
  {
   "cell_type": "markdown",
   "id": "df87a5ed-b7ed-4431-a0ac-fc67723c3fdb",
   "metadata": {},
   "source": [
    "## Atlas Query"
   ]
  },
  {
   "cell_type": "code",
   "execution_count": 6,
   "id": "1c8269fd-5b0e-461f-859e-abaf8ab560d8",
   "metadata": {},
   "outputs": [
    {
     "data": {
      "text/plain": [
       "[]"
      ]
     },
     "execution_count": 6,
     "metadata": {},
     "output_type": "execute_result"
    }
   ],
   "source": [
    "%%system\n",
    "thershold=3.1;\n",
    "for f in stats/*tstat*; do \n",
    "    cluster -i $f --mm --minextent=10 -t $thershold -o ${f}_${thershold}_cluster_size >${f}_${thershold}_cluster_info.txt\n",
    "done"
   ]
  },
  {
   "cell_type": "code",
   "execution_count": 12,
   "id": "7fb999d4-3070-4974-86ca-d8679034cc52",
   "metadata": {},
   "outputs": [
    {
     "name": "stdout",
     "output_type": "stream",
     "text": [
      "smooth=5mm;  Ca > Hc; t value>3.1; Uncorrected\n"
     ]
    },
    {
     "data": {
      "text/html": [
       "<div>\n",
       "<style scoped>\n",
       "    .dataframe tbody tr th:only-of-type {\n",
       "        vertical-align: middle;\n",
       "    }\n",
       "\n",
       "    .dataframe tbody tr th {\n",
       "        vertical-align: top;\n",
       "    }\n",
       "\n",
       "    .dataframe thead th {\n",
       "        text-align: right;\n",
       "    }\n",
       "</style>\n",
       "<table border=\"1\" class=\"dataframe\">\n",
       "  <thead>\n",
       "    <tr style=\"text-align: right;\">\n",
       "      <th></th>\n",
       "      <th>Cluster Index</th>\n",
       "      <th>Voxels</th>\n",
       "      <th>MAX</th>\n",
       "      <th>MAX X (mm)</th>\n",
       "      <th>MAX Y (mm)</th>\n",
       "      <th>MAX Z (mm)</th>\n",
       "      <th>COG X (mm)</th>\n",
       "      <th>COG Y (mm)</th>\n",
       "      <th>COG Z (mm)</th>\n",
       "    </tr>\n",
       "  </thead>\n",
       "  <tbody>\n",
       "    <tr>\n",
       "      <th>0</th>\n",
       "      <td>27</td>\n",
       "      <td>1687</td>\n",
       "      <td>137.00</td>\n",
       "      <td>-26</td>\n",
       "      <td>-60</td>\n",
       "      <td>-6</td>\n",
       "      <td>-5.64</td>\n",
       "      <td>-55.200</td>\n",
       "      <td>-3.45</td>\n",
       "    </tr>\n",
       "    <tr>\n",
       "      <th>1</th>\n",
       "      <td>26</td>\n",
       "      <td>661</td>\n",
       "      <td>49.30</td>\n",
       "      <td>-14</td>\n",
       "      <td>16</td>\n",
       "      <td>-22</td>\n",
       "      <td>-3.93</td>\n",
       "      <td>-5.270</td>\n",
       "      <td>-18.90</td>\n",
       "    </tr>\n",
       "    <tr>\n",
       "      <th>2</th>\n",
       "      <td>25</td>\n",
       "      <td>365</td>\n",
       "      <td>52.30</td>\n",
       "      <td>4</td>\n",
       "      <td>-88</td>\n",
       "      <td>-16</td>\n",
       "      <td>1.36</td>\n",
       "      <td>-84.000</td>\n",
       "      <td>5.22</td>\n",
       "    </tr>\n",
       "    <tr>\n",
       "      <th>3</th>\n",
       "      <td>24</td>\n",
       "      <td>320</td>\n",
       "      <td>175.00</td>\n",
       "      <td>-28</td>\n",
       "      <td>-58</td>\n",
       "      <td>-52</td>\n",
       "      <td>-27.30</td>\n",
       "      <td>-56.900</td>\n",
       "      <td>-56.10</td>\n",
       "    </tr>\n",
       "    <tr>\n",
       "      <th>4</th>\n",
       "      <td>23</td>\n",
       "      <td>249</td>\n",
       "      <td>83.30</td>\n",
       "      <td>-42</td>\n",
       "      <td>-56</td>\n",
       "      <td>-28</td>\n",
       "      <td>-52.00</td>\n",
       "      <td>-50.300</td>\n",
       "      <td>-25.60</td>\n",
       "    </tr>\n",
       "    <tr>\n",
       "      <th>5</th>\n",
       "      <td>22</td>\n",
       "      <td>176</td>\n",
       "      <td>39.70</td>\n",
       "      <td>-14</td>\n",
       "      <td>-12</td>\n",
       "      <td>70</td>\n",
       "      <td>-13.60</td>\n",
       "      <td>-16.500</td>\n",
       "      <td>71.80</td>\n",
       "    </tr>\n",
       "    <tr>\n",
       "      <th>6</th>\n",
       "      <td>21</td>\n",
       "      <td>133</td>\n",
       "      <td>31.50</td>\n",
       "      <td>-28</td>\n",
       "      <td>-82</td>\n",
       "      <td>6</td>\n",
       "      <td>-29.40</td>\n",
       "      <td>-92.200</td>\n",
       "      <td>9.64</td>\n",
       "    </tr>\n",
       "    <tr>\n",
       "      <th>7</th>\n",
       "      <td>20</td>\n",
       "      <td>100</td>\n",
       "      <td>27.20</td>\n",
       "      <td>-10</td>\n",
       "      <td>12</td>\n",
       "      <td>64</td>\n",
       "      <td>-6.98</td>\n",
       "      <td>13.800</td>\n",
       "      <td>64.80</td>\n",
       "    </tr>\n",
       "    <tr>\n",
       "      <th>8</th>\n",
       "      <td>19</td>\n",
       "      <td>87</td>\n",
       "      <td>17.40</td>\n",
       "      <td>36</td>\n",
       "      <td>-96</td>\n",
       "      <td>12</td>\n",
       "      <td>35.00</td>\n",
       "      <td>-88.800</td>\n",
       "      <td>7.82</td>\n",
       "    </tr>\n",
       "    <tr>\n",
       "      <th>9</th>\n",
       "      <td>18</td>\n",
       "      <td>82</td>\n",
       "      <td>18.40</td>\n",
       "      <td>-60</td>\n",
       "      <td>-64</td>\n",
       "      <td>-12</td>\n",
       "      <td>-59.30</td>\n",
       "      <td>-64.000</td>\n",
       "      <td>-8.96</td>\n",
       "    </tr>\n",
       "    <tr>\n",
       "      <th>10</th>\n",
       "      <td>17</td>\n",
       "      <td>76</td>\n",
       "      <td>14.80</td>\n",
       "      <td>32</td>\n",
       "      <td>6</td>\n",
       "      <td>-20</td>\n",
       "      <td>29.90</td>\n",
       "      <td>5.140</td>\n",
       "      <td>-21.80</td>\n",
       "    </tr>\n",
       "    <tr>\n",
       "      <th>11</th>\n",
       "      <td>16</td>\n",
       "      <td>76</td>\n",
       "      <td>40.70</td>\n",
       "      <td>20</td>\n",
       "      <td>4</td>\n",
       "      <td>10</td>\n",
       "      <td>21.00</td>\n",
       "      <td>8.710</td>\n",
       "      <td>14.90</td>\n",
       "    </tr>\n",
       "    <tr>\n",
       "      <th>12</th>\n",
       "      <td>15</td>\n",
       "      <td>68</td>\n",
       "      <td>40.60</td>\n",
       "      <td>-28</td>\n",
       "      <td>-32</td>\n",
       "      <td>-10</td>\n",
       "      <td>-29.60</td>\n",
       "      <td>-31.800</td>\n",
       "      <td>-8.58</td>\n",
       "    </tr>\n",
       "    <tr>\n",
       "      <th>13</th>\n",
       "      <td>14</td>\n",
       "      <td>62</td>\n",
       "      <td>23.20</td>\n",
       "      <td>30</td>\n",
       "      <td>4</td>\n",
       "      <td>60</td>\n",
       "      <td>33.10</td>\n",
       "      <td>5.950</td>\n",
       "      <td>60.50</td>\n",
       "    </tr>\n",
       "    <tr>\n",
       "      <th>14</th>\n",
       "      <td>13</td>\n",
       "      <td>43</td>\n",
       "      <td>6.21</td>\n",
       "      <td>-22</td>\n",
       "      <td>68</td>\n",
       "      <td>4</td>\n",
       "      <td>-20.10</td>\n",
       "      <td>66.300</td>\n",
       "      <td>3.89</td>\n",
       "    </tr>\n",
       "    <tr>\n",
       "      <th>15</th>\n",
       "      <td>12</td>\n",
       "      <td>33</td>\n",
       "      <td>43.20</td>\n",
       "      <td>-24</td>\n",
       "      <td>26</td>\n",
       "      <td>60</td>\n",
       "      <td>-24.10</td>\n",
       "      <td>23.500</td>\n",
       "      <td>59.80</td>\n",
       "    </tr>\n",
       "    <tr>\n",
       "      <th>16</th>\n",
       "      <td>11</td>\n",
       "      <td>32</td>\n",
       "      <td>11.80</td>\n",
       "      <td>22</td>\n",
       "      <td>14</td>\n",
       "      <td>66</td>\n",
       "      <td>20.20</td>\n",
       "      <td>12.600</td>\n",
       "      <td>65.00</td>\n",
       "    </tr>\n",
       "    <tr>\n",
       "      <th>17</th>\n",
       "      <td>10</td>\n",
       "      <td>29</td>\n",
       "      <td>23.40</td>\n",
       "      <td>10</td>\n",
       "      <td>-42</td>\n",
       "      <td>72</td>\n",
       "      <td>10.70</td>\n",
       "      <td>-38.800</td>\n",
       "      <td>71.50</td>\n",
       "    </tr>\n",
       "    <tr>\n",
       "      <th>18</th>\n",
       "      <td>9</td>\n",
       "      <td>28</td>\n",
       "      <td>18.40</td>\n",
       "      <td>6</td>\n",
       "      <td>38</td>\n",
       "      <td>58</td>\n",
       "      <td>3.79</td>\n",
       "      <td>39.900</td>\n",
       "      <td>53.90</td>\n",
       "    </tr>\n",
       "    <tr>\n",
       "      <th>19</th>\n",
       "      <td>8</td>\n",
       "      <td>28</td>\n",
       "      <td>35.40</td>\n",
       "      <td>44</td>\n",
       "      <td>-60</td>\n",
       "      <td>40</td>\n",
       "      <td>43.80</td>\n",
       "      <td>-57.300</td>\n",
       "      <td>38.30</td>\n",
       "    </tr>\n",
       "    <tr>\n",
       "      <th>20</th>\n",
       "      <td>7</td>\n",
       "      <td>26</td>\n",
       "      <td>3.96</td>\n",
       "      <td>2</td>\n",
       "      <td>4</td>\n",
       "      <td>68</td>\n",
       "      <td>4.76</td>\n",
       "      <td>1.850</td>\n",
       "      <td>70.60</td>\n",
       "    </tr>\n",
       "    <tr>\n",
       "      <th>21</th>\n",
       "      <td>6</td>\n",
       "      <td>25</td>\n",
       "      <td>6.08</td>\n",
       "      <td>-14</td>\n",
       "      <td>-56</td>\n",
       "      <td>68</td>\n",
       "      <td>-11.60</td>\n",
       "      <td>-56.400</td>\n",
       "      <td>67.30</td>\n",
       "    </tr>\n",
       "    <tr>\n",
       "      <th>22</th>\n",
       "      <td>5</td>\n",
       "      <td>22</td>\n",
       "      <td>20.90</td>\n",
       "      <td>-4</td>\n",
       "      <td>0</td>\n",
       "      <td>4</td>\n",
       "      <td>-4.30</td>\n",
       "      <td>0.552</td>\n",
       "      <td>6.60</td>\n",
       "    </tr>\n",
       "    <tr>\n",
       "      <th>23</th>\n",
       "      <td>4</td>\n",
       "      <td>18</td>\n",
       "      <td>16.70</td>\n",
       "      <td>8</td>\n",
       "      <td>-64</td>\n",
       "      <td>-40</td>\n",
       "      <td>10.90</td>\n",
       "      <td>-63.100</td>\n",
       "      <td>-42.60</td>\n",
       "    </tr>\n",
       "    <tr>\n",
       "      <th>24</th>\n",
       "      <td>3</td>\n",
       "      <td>18</td>\n",
       "      <td>28.30</td>\n",
       "      <td>8</td>\n",
       "      <td>-92</td>\n",
       "      <td>34</td>\n",
       "      <td>8.08</td>\n",
       "      <td>-91.900</td>\n",
       "      <td>34.50</td>\n",
       "    </tr>\n",
       "    <tr>\n",
       "      <th>25</th>\n",
       "      <td>2</td>\n",
       "      <td>14</td>\n",
       "      <td>26.80</td>\n",
       "      <td>24</td>\n",
       "      <td>-64</td>\n",
       "      <td>-64</td>\n",
       "      <td>23.60</td>\n",
       "      <td>-64.200</td>\n",
       "      <td>-61.70</td>\n",
       "    </tr>\n",
       "    <tr>\n",
       "      <th>26</th>\n",
       "      <td>1</td>\n",
       "      <td>11</td>\n",
       "      <td>6.89</td>\n",
       "      <td>68</td>\n",
       "      <td>-54</td>\n",
       "      <td>-4</td>\n",
       "      <td>66.40</td>\n",
       "      <td>-54.300</td>\n",
       "      <td>-4.17</td>\n",
       "    </tr>\n",
       "  </tbody>\n",
       "</table>\n",
       "</div>"
      ],
      "text/plain": [
       "    Cluster Index  Voxels     MAX  MAX X (mm)  MAX Y (mm)  MAX Z (mm)  \\\n",
       "0              27    1687  137.00         -26         -60          -6   \n",
       "1              26     661   49.30         -14          16         -22   \n",
       "2              25     365   52.30           4         -88         -16   \n",
       "3              24     320  175.00         -28         -58         -52   \n",
       "4              23     249   83.30         -42         -56         -28   \n",
       "5              22     176   39.70         -14         -12          70   \n",
       "6              21     133   31.50         -28         -82           6   \n",
       "7              20     100   27.20         -10          12          64   \n",
       "8              19      87   17.40          36         -96          12   \n",
       "9              18      82   18.40         -60         -64         -12   \n",
       "10             17      76   14.80          32           6         -20   \n",
       "11             16      76   40.70          20           4          10   \n",
       "12             15      68   40.60         -28         -32         -10   \n",
       "13             14      62   23.20          30           4          60   \n",
       "14             13      43    6.21         -22          68           4   \n",
       "15             12      33   43.20         -24          26          60   \n",
       "16             11      32   11.80          22          14          66   \n",
       "17             10      29   23.40          10         -42          72   \n",
       "18              9      28   18.40           6          38          58   \n",
       "19              8      28   35.40          44         -60          40   \n",
       "20              7      26    3.96           2           4          68   \n",
       "21              6      25    6.08         -14         -56          68   \n",
       "22              5      22   20.90          -4           0           4   \n",
       "23              4      18   16.70           8         -64         -40   \n",
       "24              3      18   28.30           8         -92          34   \n",
       "25              2      14   26.80          24         -64         -64   \n",
       "26              1      11    6.89          68         -54          -4   \n",
       "\n",
       "    COG X (mm)  COG Y (mm)  COG Z (mm)  \n",
       "0        -5.64     -55.200       -3.45  \n",
       "1        -3.93      -5.270      -18.90  \n",
       "2         1.36     -84.000        5.22  \n",
       "3       -27.30     -56.900      -56.10  \n",
       "4       -52.00     -50.300      -25.60  \n",
       "5       -13.60     -16.500       71.80  \n",
       "6       -29.40     -92.200        9.64  \n",
       "7        -6.98      13.800       64.80  \n",
       "8        35.00     -88.800        7.82  \n",
       "9       -59.30     -64.000       -8.96  \n",
       "10       29.90       5.140      -21.80  \n",
       "11       21.00       8.710       14.90  \n",
       "12      -29.60     -31.800       -8.58  \n",
       "13       33.10       5.950       60.50  \n",
       "14      -20.10      66.300        3.89  \n",
       "15      -24.10      23.500       59.80  \n",
       "16       20.20      12.600       65.00  \n",
       "17       10.70     -38.800       71.50  \n",
       "18        3.79      39.900       53.90  \n",
       "19       43.80     -57.300       38.30  \n",
       "20        4.76       1.850       70.60  \n",
       "21      -11.60     -56.400       67.30  \n",
       "22       -4.30       0.552        6.60  \n",
       "23       10.90     -63.100      -42.60  \n",
       "24        8.08     -91.900       34.50  \n",
       "25       23.60     -64.200      -61.70  \n",
       "26       66.40     -54.300       -4.17  "
      ]
     },
     "execution_count": 12,
     "metadata": {},
     "output_type": "execute_result"
    }
   ],
   "source": [
    "import pandas as pd\n",
    "print(\"smooth=5mm;  Ca > Hc; t value>3.1; Uncorrected\")\n",
    "unc_t1 = pd.read_csv('stats/s5_tstat1.nii.gz_3.1_cluster_info.txt', sep='\\t')\n",
    "unc_t1"
   ]
  },
  {
   "cell_type": "code",
   "execution_count": 26,
   "id": "e25cd085-f00f-43ca-8028-75c987a14d5b",
   "metadata": {},
   "outputs": [],
   "source": [
    "#atlasquery -a \"MNI Structural Atlas\" -c -40,-22,-26 # 查询语句\n",
    "    \n",
    "# cluster index 5\n",
    "for i in range(unc_t1.shape[0]):\n",
    "    x,y,z = unc_t1.loc[i, ['MAX X (mm)','MAX Y (mm)','MAX Z (mm)']]\n",
    "    JHA = !atlasquery -a \"Juelich Histological Atlas\" -c {x},{y},{z}\n",
    "    JHA = JHA[0].split('>')[-1]\n",
    "    unc_t1.loc[i,'JHA'] = JHA\n",
    "    "
   ]
  },
  {
   "cell_type": "code",
   "execution_count": 28,
   "id": "75c18460-e9f7-482e-8b96-0c040aa3cd9e",
   "metadata": {},
   "outputs": [
    {
     "data": {
      "text/html": [
       "<div>\n",
       "<style scoped>\n",
       "    .dataframe tbody tr th:only-of-type {\n",
       "        vertical-align: middle;\n",
       "    }\n",
       "\n",
       "    .dataframe tbody tr th {\n",
       "        vertical-align: top;\n",
       "    }\n",
       "\n",
       "    .dataframe thead th {\n",
       "        text-align: right;\n",
       "    }\n",
       "</style>\n",
       "<table border=\"1\" class=\"dataframe\">\n",
       "  <thead>\n",
       "    <tr style=\"text-align: right;\">\n",
       "      <th></th>\n",
       "      <th>Cluster Index</th>\n",
       "      <th>Voxels</th>\n",
       "      <th>MAX</th>\n",
       "      <th>MAX X (mm)</th>\n",
       "      <th>MAX Y (mm)</th>\n",
       "      <th>MAX Z (mm)</th>\n",
       "      <th>COG X (mm)</th>\n",
       "      <th>COG Y (mm)</th>\n",
       "      <th>COG Z (mm)</th>\n",
       "      <th>MNI</th>\n",
       "      <th>JHA</th>\n",
       "    </tr>\n",
       "  </thead>\n",
       "  <tbody>\n",
       "    <tr>\n",
       "      <th>0</th>\n",
       "      <td>27</td>\n",
       "      <td>1687</td>\n",
       "      <td>137.00</td>\n",
       "      <td>-26</td>\n",
       "      <td>-60</td>\n",
       "      <td>-6</td>\n",
       "      <td>-5.64</td>\n",
       "      <td>-55.200</td>\n",
       "      <td>-3.45</td>\n",
       "      <td>59% Occipital Lobe</td>\n",
       "      <td>18% WM Optic radiation L, 7% GM Visual cortex ...</td>\n",
       "    </tr>\n",
       "    <tr>\n",
       "      <th>1</th>\n",
       "      <td>26</td>\n",
       "      <td>661</td>\n",
       "      <td>49.30</td>\n",
       "      <td>-14</td>\n",
       "      <td>16</td>\n",
       "      <td>-22</td>\n",
       "      <td>-3.93</td>\n",
       "      <td>-5.270</td>\n",
       "      <td>-18.90</td>\n",
       "      <td>86% Frontal Lobe</td>\n",
       "      <td>No label found!</td>\n",
       "    </tr>\n",
       "    <tr>\n",
       "      <th>2</th>\n",
       "      <td>25</td>\n",
       "      <td>365</td>\n",
       "      <td>52.30</td>\n",
       "      <td>4</td>\n",
       "      <td>-88</td>\n",
       "      <td>-16</td>\n",
       "      <td>1.36</td>\n",
       "      <td>-84.000</td>\n",
       "      <td>5.22</td>\n",
       "      <td>57% Occipital Lobe</td>\n",
       "      <td>No label found!</td>\n",
       "    </tr>\n",
       "    <tr>\n",
       "      <th>3</th>\n",
       "      <td>24</td>\n",
       "      <td>320</td>\n",
       "      <td>175.00</td>\n",
       "      <td>-28</td>\n",
       "      <td>-58</td>\n",
       "      <td>-52</td>\n",
       "      <td>-27.30</td>\n",
       "      <td>-56.900</td>\n",
       "      <td>-56.10</td>\n",
       "      <td>100% Cerebellum</td>\n",
       "      <td>No label found!</td>\n",
       "    </tr>\n",
       "    <tr>\n",
       "      <th>4</th>\n",
       "      <td>23</td>\n",
       "      <td>249</td>\n",
       "      <td>83.30</td>\n",
       "      <td>-42</td>\n",
       "      <td>-56</td>\n",
       "      <td>-28</td>\n",
       "      <td>-52.00</td>\n",
       "      <td>-50.300</td>\n",
       "      <td>-25.60</td>\n",
       "      <td>83% Cerebellum, 5% Temporal Lobe</td>\n",
       "      <td>No label found!</td>\n",
       "    </tr>\n",
       "    <tr>\n",
       "      <th>5</th>\n",
       "      <td>22</td>\n",
       "      <td>176</td>\n",
       "      <td>39.70</td>\n",
       "      <td>-14</td>\n",
       "      <td>-12</td>\n",
       "      <td>70</td>\n",
       "      <td>-13.60</td>\n",
       "      <td>-16.500</td>\n",
       "      <td>71.80</td>\n",
       "      <td>47% Frontal Lobe</td>\n",
       "      <td>92% GM Premotor cortex BA6 L, 8% WM Corticospi...</td>\n",
       "    </tr>\n",
       "    <tr>\n",
       "      <th>6</th>\n",
       "      <td>21</td>\n",
       "      <td>133</td>\n",
       "      <td>31.50</td>\n",
       "      <td>-28</td>\n",
       "      <td>-82</td>\n",
       "      <td>6</td>\n",
       "      <td>-29.40</td>\n",
       "      <td>-92.200</td>\n",
       "      <td>9.64</td>\n",
       "      <td>73% Occipital Lobe</td>\n",
       "      <td>45% WM Optic radiation L, 10% WM Callosal body</td>\n",
       "    </tr>\n",
       "    <tr>\n",
       "      <th>7</th>\n",
       "      <td>20</td>\n",
       "      <td>100</td>\n",
       "      <td>27.20</td>\n",
       "      <td>-10</td>\n",
       "      <td>12</td>\n",
       "      <td>64</td>\n",
       "      <td>-6.98</td>\n",
       "      <td>13.800</td>\n",
       "      <td>64.80</td>\n",
       "      <td>47% Frontal Lobe</td>\n",
       "      <td>41% GM Premotor cortex BA6 L</td>\n",
       "    </tr>\n",
       "    <tr>\n",
       "      <th>8</th>\n",
       "      <td>19</td>\n",
       "      <td>87</td>\n",
       "      <td>17.40</td>\n",
       "      <td>36</td>\n",
       "      <td>-96</td>\n",
       "      <td>12</td>\n",
       "      <td>35.00</td>\n",
       "      <td>-88.800</td>\n",
       "      <td>7.82</td>\n",
       "      <td>8% Occipital Lobe</td>\n",
       "      <td>4% GM Visual cortex V2 BA18 R, 3% GM Visual co...</td>\n",
       "    </tr>\n",
       "    <tr>\n",
       "      <th>9</th>\n",
       "      <td>18</td>\n",
       "      <td>82</td>\n",
       "      <td>18.40</td>\n",
       "      <td>-60</td>\n",
       "      <td>-64</td>\n",
       "      <td>-12</td>\n",
       "      <td>-59.30</td>\n",
       "      <td>-64.000</td>\n",
       "      <td>-8.96</td>\n",
       "      <td>42% Temporal Lobe</td>\n",
       "      <td>No label found!</td>\n",
       "    </tr>\n",
       "    <tr>\n",
       "      <th>10</th>\n",
       "      <td>17</td>\n",
       "      <td>76</td>\n",
       "      <td>14.80</td>\n",
       "      <td>32</td>\n",
       "      <td>6</td>\n",
       "      <td>-20</td>\n",
       "      <td>29.90</td>\n",
       "      <td>5.140</td>\n",
       "      <td>-21.80</td>\n",
       "      <td>81% Temporal Lobe</td>\n",
       "      <td>No label found!</td>\n",
       "    </tr>\n",
       "    <tr>\n",
       "      <th>11</th>\n",
       "      <td>16</td>\n",
       "      <td>76</td>\n",
       "      <td>40.70</td>\n",
       "      <td>20</td>\n",
       "      <td>4</td>\n",
       "      <td>10</td>\n",
       "      <td>21.00</td>\n",
       "      <td>8.710</td>\n",
       "      <td>14.90</td>\n",
       "      <td>18% Putamen</td>\n",
       "      <td>No label found!</td>\n",
       "    </tr>\n",
       "    <tr>\n",
       "      <th>12</th>\n",
       "      <td>15</td>\n",
       "      <td>68</td>\n",
       "      <td>40.60</td>\n",
       "      <td>-28</td>\n",
       "      <td>-32</td>\n",
       "      <td>-10</td>\n",
       "      <td>-29.60</td>\n",
       "      <td>-31.800</td>\n",
       "      <td>-8.58</td>\n",
       "      <td>6% Temporal Lobe</td>\n",
       "      <td>85% GM Hippocampus cornu ammonis L, 84% GM Hip...</td>\n",
       "    </tr>\n",
       "    <tr>\n",
       "      <th>13</th>\n",
       "      <td>14</td>\n",
       "      <td>62</td>\n",
       "      <td>23.20</td>\n",
       "      <td>30</td>\n",
       "      <td>4</td>\n",
       "      <td>60</td>\n",
       "      <td>33.10</td>\n",
       "      <td>5.950</td>\n",
       "      <td>60.50</td>\n",
       "      <td>55% Frontal Lobe</td>\n",
       "      <td>No label found!</td>\n",
       "    </tr>\n",
       "    <tr>\n",
       "      <th>14</th>\n",
       "      <td>13</td>\n",
       "      <td>43</td>\n",
       "      <td>6.21</td>\n",
       "      <td>-22</td>\n",
       "      <td>68</td>\n",
       "      <td>4</td>\n",
       "      <td>-20.10</td>\n",
       "      <td>66.300</td>\n",
       "      <td>3.89</td>\n",
       "      <td>41% Frontal Lobe</td>\n",
       "      <td>No label found!</td>\n",
       "    </tr>\n",
       "    <tr>\n",
       "      <th>15</th>\n",
       "      <td>12</td>\n",
       "      <td>33</td>\n",
       "      <td>43.20</td>\n",
       "      <td>-24</td>\n",
       "      <td>26</td>\n",
       "      <td>60</td>\n",
       "      <td>-24.10</td>\n",
       "      <td>23.500</td>\n",
       "      <td>59.80</td>\n",
       "      <td>49% Frontal Lobe</td>\n",
       "      <td>4% GM Premotor cortex BA6 L</td>\n",
       "    </tr>\n",
       "    <tr>\n",
       "      <th>16</th>\n",
       "      <td>11</td>\n",
       "      <td>32</td>\n",
       "      <td>11.80</td>\n",
       "      <td>22</td>\n",
       "      <td>14</td>\n",
       "      <td>66</td>\n",
       "      <td>20.20</td>\n",
       "      <td>12.600</td>\n",
       "      <td>65.00</td>\n",
       "      <td>87% Frontal Lobe</td>\n",
       "      <td>7% GM Premotor cortex BA6 R</td>\n",
       "    </tr>\n",
       "    <tr>\n",
       "      <th>17</th>\n",
       "      <td>10</td>\n",
       "      <td>29</td>\n",
       "      <td>23.40</td>\n",
       "      <td>10</td>\n",
       "      <td>-42</td>\n",
       "      <td>72</td>\n",
       "      <td>10.70</td>\n",
       "      <td>-38.800</td>\n",
       "      <td>71.50</td>\n",
       "      <td>23% Parietal Lobe, 7% Frontal Lobe</td>\n",
       "      <td>41% GM Primary somatosensory cortex BA3b R, 29...</td>\n",
       "    </tr>\n",
       "    <tr>\n",
       "      <th>18</th>\n",
       "      <td>9</td>\n",
       "      <td>28</td>\n",
       "      <td>18.40</td>\n",
       "      <td>6</td>\n",
       "      <td>38</td>\n",
       "      <td>58</td>\n",
       "      <td>3.79</td>\n",
       "      <td>39.900</td>\n",
       "      <td>53.90</td>\n",
       "      <td>59% Frontal Lobe</td>\n",
       "      <td>4% GM Premotor cortex BA6 R</td>\n",
       "    </tr>\n",
       "    <tr>\n",
       "      <th>19</th>\n",
       "      <td>8</td>\n",
       "      <td>28</td>\n",
       "      <td>35.40</td>\n",
       "      <td>44</td>\n",
       "      <td>-60</td>\n",
       "      <td>40</td>\n",
       "      <td>43.80</td>\n",
       "      <td>-57.300</td>\n",
       "      <td>38.30</td>\n",
       "      <td>66% Parietal Lobe</td>\n",
       "      <td>33% GM Inferior parietal lobule Pga R</td>\n",
       "    </tr>\n",
       "    <tr>\n",
       "      <th>20</th>\n",
       "      <td>7</td>\n",
       "      <td>26</td>\n",
       "      <td>3.96</td>\n",
       "      <td>2</td>\n",
       "      <td>4</td>\n",
       "      <td>68</td>\n",
       "      <td>4.76</td>\n",
       "      <td>1.850</td>\n",
       "      <td>70.60</td>\n",
       "      <td>21% Frontal Lobe</td>\n",
       "      <td>80% GM Premotor cortex BA6 R</td>\n",
       "    </tr>\n",
       "    <tr>\n",
       "      <th>21</th>\n",
       "      <td>6</td>\n",
       "      <td>25</td>\n",
       "      <td>6.08</td>\n",
       "      <td>-14</td>\n",
       "      <td>-56</td>\n",
       "      <td>68</td>\n",
       "      <td>-11.60</td>\n",
       "      <td>-56.400</td>\n",
       "      <td>67.30</td>\n",
       "      <td>73% Parietal Lobe</td>\n",
       "      <td>57% GM Superior parietal lobule 7A L, 43% GM S...</td>\n",
       "    </tr>\n",
       "    <tr>\n",
       "      <th>22</th>\n",
       "      <td>5</td>\n",
       "      <td>22</td>\n",
       "      <td>20.90</td>\n",
       "      <td>-4</td>\n",
       "      <td>0</td>\n",
       "      <td>4</td>\n",
       "      <td>-4.30</td>\n",
       "      <td>0.552</td>\n",
       "      <td>6.60</td>\n",
       "      <td>16% Thalamus</td>\n",
       "      <td>13% WM Fornix</td>\n",
       "    </tr>\n",
       "    <tr>\n",
       "      <th>23</th>\n",
       "      <td>4</td>\n",
       "      <td>18</td>\n",
       "      <td>16.70</td>\n",
       "      <td>8</td>\n",
       "      <td>-64</td>\n",
       "      <td>-40</td>\n",
       "      <td>10.90</td>\n",
       "      <td>-63.100</td>\n",
       "      <td>-42.60</td>\n",
       "      <td>98% Cerebellum</td>\n",
       "      <td>No label found!</td>\n",
       "    </tr>\n",
       "    <tr>\n",
       "      <th>24</th>\n",
       "      <td>3</td>\n",
       "      <td>18</td>\n",
       "      <td>28.30</td>\n",
       "      <td>8</td>\n",
       "      <td>-92</td>\n",
       "      <td>34</td>\n",
       "      <td>8.08</td>\n",
       "      <td>-91.900</td>\n",
       "      <td>34.50</td>\n",
       "      <td>6% Occipital Lobe</td>\n",
       "      <td>2% GM Visual cortex V2 BA18 R</td>\n",
       "    </tr>\n",
       "    <tr>\n",
       "      <th>25</th>\n",
       "      <td>2</td>\n",
       "      <td>14</td>\n",
       "      <td>26.80</td>\n",
       "      <td>24</td>\n",
       "      <td>-64</td>\n",
       "      <td>-64</td>\n",
       "      <td>23.60</td>\n",
       "      <td>-64.200</td>\n",
       "      <td>-61.70</td>\n",
       "      <td>59% Cerebellum</td>\n",
       "      <td>No label found!</td>\n",
       "    </tr>\n",
       "    <tr>\n",
       "      <th>26</th>\n",
       "      <td>1</td>\n",
       "      <td>11</td>\n",
       "      <td>6.89</td>\n",
       "      <td>68</td>\n",
       "      <td>-54</td>\n",
       "      <td>-4</td>\n",
       "      <td>66.40</td>\n",
       "      <td>-54.300</td>\n",
       "      <td>-4.17</td>\n",
       "      <td>17% Temporal Lobe</td>\n",
       "      <td>No label found!</td>\n",
       "    </tr>\n",
       "  </tbody>\n",
       "</table>\n",
       "</div>"
      ],
      "text/plain": [
       "    Cluster Index  Voxels     MAX  MAX X (mm)  MAX Y (mm)  MAX Z (mm)  \\\n",
       "0              27    1687  137.00         -26         -60          -6   \n",
       "1              26     661   49.30         -14          16         -22   \n",
       "2              25     365   52.30           4         -88         -16   \n",
       "3              24     320  175.00         -28         -58         -52   \n",
       "4              23     249   83.30         -42         -56         -28   \n",
       "5              22     176   39.70         -14         -12          70   \n",
       "6              21     133   31.50         -28         -82           6   \n",
       "7              20     100   27.20         -10          12          64   \n",
       "8              19      87   17.40          36         -96          12   \n",
       "9              18      82   18.40         -60         -64         -12   \n",
       "10             17      76   14.80          32           6         -20   \n",
       "11             16      76   40.70          20           4          10   \n",
       "12             15      68   40.60         -28         -32         -10   \n",
       "13             14      62   23.20          30           4          60   \n",
       "14             13      43    6.21         -22          68           4   \n",
       "15             12      33   43.20         -24          26          60   \n",
       "16             11      32   11.80          22          14          66   \n",
       "17             10      29   23.40          10         -42          72   \n",
       "18              9      28   18.40           6          38          58   \n",
       "19              8      28   35.40          44         -60          40   \n",
       "20              7      26    3.96           2           4          68   \n",
       "21              6      25    6.08         -14         -56          68   \n",
       "22              5      22   20.90          -4           0           4   \n",
       "23              4      18   16.70           8         -64         -40   \n",
       "24              3      18   28.30           8         -92          34   \n",
       "25              2      14   26.80          24         -64         -64   \n",
       "26              1      11    6.89          68         -54          -4   \n",
       "\n",
       "    COG X (mm)  COG Y (mm)  COG Z (mm)                                 MNI  \\\n",
       "0        -5.64     -55.200       -3.45                  59% Occipital Lobe   \n",
       "1        -3.93      -5.270      -18.90                    86% Frontal Lobe   \n",
       "2         1.36     -84.000        5.22                  57% Occipital Lobe   \n",
       "3       -27.30     -56.900      -56.10                     100% Cerebellum   \n",
       "4       -52.00     -50.300      -25.60    83% Cerebellum, 5% Temporal Lobe   \n",
       "5       -13.60     -16.500       71.80                    47% Frontal Lobe   \n",
       "6       -29.40     -92.200        9.64                  73% Occipital Lobe   \n",
       "7        -6.98      13.800       64.80                    47% Frontal Lobe   \n",
       "8        35.00     -88.800        7.82                   8% Occipital Lobe   \n",
       "9       -59.30     -64.000       -8.96                   42% Temporal Lobe   \n",
       "10       29.90       5.140      -21.80                   81% Temporal Lobe   \n",
       "11       21.00       8.710       14.90                         18% Putamen   \n",
       "12      -29.60     -31.800       -8.58                    6% Temporal Lobe   \n",
       "13       33.10       5.950       60.50                    55% Frontal Lobe   \n",
       "14      -20.10      66.300        3.89                    41% Frontal Lobe   \n",
       "15      -24.10      23.500       59.80                    49% Frontal Lobe   \n",
       "16       20.20      12.600       65.00                    87% Frontal Lobe   \n",
       "17       10.70     -38.800       71.50  23% Parietal Lobe, 7% Frontal Lobe   \n",
       "18        3.79      39.900       53.90                    59% Frontal Lobe   \n",
       "19       43.80     -57.300       38.30                   66% Parietal Lobe   \n",
       "20        4.76       1.850       70.60                    21% Frontal Lobe   \n",
       "21      -11.60     -56.400       67.30                   73% Parietal Lobe   \n",
       "22       -4.30       0.552        6.60                        16% Thalamus   \n",
       "23       10.90     -63.100      -42.60                      98% Cerebellum   \n",
       "24        8.08     -91.900       34.50                   6% Occipital Lobe   \n",
       "25       23.60     -64.200      -61.70                      59% Cerebellum   \n",
       "26       66.40     -54.300       -4.17                   17% Temporal Lobe   \n",
       "\n",
       "                                                  JHA  \n",
       "0   18% WM Optic radiation L, 7% GM Visual cortex ...  \n",
       "1                                     No label found!  \n",
       "2                                     No label found!  \n",
       "3                                     No label found!  \n",
       "4                                     No label found!  \n",
       "5   92% GM Premotor cortex BA6 L, 8% WM Corticospi...  \n",
       "6      45% WM Optic radiation L, 10% WM Callosal body  \n",
       "7                        41% GM Premotor cortex BA6 L  \n",
       "8   4% GM Visual cortex V2 BA18 R, 3% GM Visual co...  \n",
       "9                                     No label found!  \n",
       "10                                    No label found!  \n",
       "11                                    No label found!  \n",
       "12  85% GM Hippocampus cornu ammonis L, 84% GM Hip...  \n",
       "13                                    No label found!  \n",
       "14                                    No label found!  \n",
       "15                        4% GM Premotor cortex BA6 L  \n",
       "16                        7% GM Premotor cortex BA6 R  \n",
       "17  41% GM Primary somatosensory cortex BA3b R, 29...  \n",
       "18                        4% GM Premotor cortex BA6 R  \n",
       "19              33% GM Inferior parietal lobule Pga R  \n",
       "20                       80% GM Premotor cortex BA6 R  \n",
       "21  57% GM Superior parietal lobule 7A L, 43% GM S...  \n",
       "22                                      13% WM Fornix  \n",
       "23                                    No label found!  \n",
       "24                      2% GM Visual cortex V2 BA18 R  \n",
       "25                                    No label found!  \n",
       "26                                    No label found!  "
      ]
     },
     "execution_count": 28,
     "metadata": {},
     "output_type": "execute_result"
    }
   ],
   "source": [
    "unc_t1"
   ]
  },
  {
   "cell_type": "code",
   "execution_count": null,
   "id": "220b44eb-b592-4525-8b33-0bdfd745c650",
   "metadata": {},
   "outputs": [],
   "source": [
    "def read_img(img_f):\n",
    "    \"\"\"read the data in nii file\"\"\"\n",
    "    img = nib.load(img_f)\n",
    "    img_data = img.get_fdata()\n",
    "    shape = img_data.shape\n",
    "    print(\"img shape is :\" + str(shape))\n",
    "    if len(shape) == 4:\n",
    "        img_data = img_data[:, :, :, 0]\n",
    "    \n",
    "    return img_data"
   ]
  }
 ],
 "metadata": {
  "kernelspec": {
   "display_name": "Python 3 (ipykernel)",
   "language": "python",
   "name": "python3"
  },
  "language_info": {
   "codemirror_mode": {
    "name": "ipython",
    "version": 3
   },
   "file_extension": ".py",
   "mimetype": "text/x-python",
   "name": "python",
   "nbconvert_exporter": "python",
   "pygments_lexer": "ipython3",
   "version": "3.8.12"
  }
 },
 "nbformat": 4,
 "nbformat_minor": 5
}
