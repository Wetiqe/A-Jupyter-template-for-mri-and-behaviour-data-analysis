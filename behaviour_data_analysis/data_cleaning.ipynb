{
 "cells": [
  {
   "cell_type": "code",
   "execution_count": 1,
   "id": "b0c938c9",
   "metadata": {},
   "outputs": [],
   "source": [
    "# -*- utf-8 -*-\n",
    "%store -r project_path\n",
    "import sys\n",
    "sys.path.append(project_path)\n",
    "from pysetup import *\n",
    "import numpy as np\n",
    "import pandas as pd"
   ]
  },
  {
   "cell_type": "code",
   "execution_count": 2,
   "id": "a5ec7f52",
   "metadata": {},
   "outputs": [],
   "source": [
    "# connect to sqlite3 db\n",
    "db_dir = \"../database/\" + \"test.db\"\n",
    "db, dbcr = general.db_conn(db_dir)\n",
    "\n",
    "# read excel \n",
    "excel_fname = \"../database/\" + \"\"\n",
    "sheet_name = \"\"\n",
    "sheet = pd.read_excel(excel_fname, sheet_name, na_values='n/a')\n",
    "\n",
    "# read csv\n",
    "csv_fname = \"../database/\" + \"\"\n",
    "sheet = pd.read_csv(csv_fname, na_values='NAN', parse_dates=['Last Update'])"
   ]
  },
  {
   "cell_type": "code",
   "execution_count": 3,
   "id": "25d4e234",
   "metadata": {},
   "outputs": [],
   "source": [
    "general.pd_setup()"
   ]
  },
  {
   "cell_type": "markdown",
   "id": "2dba3072",
   "metadata": {},
   "source": [
    "# Pipline\n",
    "1. connect to db\n",
    "2. get and check data \n",
    "3. clean and process the data\n",
    "4. use %store to store the processed data"
   ]
  },
  {
   "cell_type": "code",
   "execution_count": 5,
   "id": "4c8b13ca",
   "metadata": {},
   "outputs": [
    {
     "data": {
      "text/html": [
       "<div>\n",
       "<style scoped>\n",
       "    .dataframe tbody tr th:only-of-type {\n",
       "        vertical-align: middle;\n",
       "    }\n",
       "\n",
       "    .dataframe tbody tr th {\n",
       "        vertical-align: top;\n",
       "    }\n",
       "\n",
       "    .dataframe thead th {\n",
       "        text-align: right;\n",
       "    }\n",
       "</style>\n",
       "<table border=\"1\" class=\"dataframe\">\n",
       "  <thead>\n",
       "    <tr style=\"text-align: right;\">\n",
       "      <th></th>\n",
       "      <th>args1</th>\n",
       "      <th>args2</th>\n",
       "    </tr>\n",
       "    <tr>\n",
       "      <th>id</th>\n",
       "      <th></th>\n",
       "      <th></th>\n",
       "    </tr>\n",
       "  </thead>\n",
       "  <tbody>\n",
       "    <tr>\n",
       "      <th>1</th>\n",
       "      <td>-0.2413</td>\n",
       "      <td>-1.3005</td>\n",
       "    </tr>\n",
       "    <tr>\n",
       "      <th>2</th>\n",
       "      <td>0.8854</td>\n",
       "      <td>-2.3744</td>\n",
       "    </tr>\n",
       "    <tr>\n",
       "      <th>3</th>\n",
       "      <td>-2.3436</td>\n",
       "      <td>0.9421</td>\n",
       "    </tr>\n",
       "  </tbody>\n",
       "</table>\n",
       "</div>"
      ],
      "text/plain": [
       "     args1   args2\n",
       "id                \n",
       "1  -0.2413 -1.3005\n",
       "2   0.8854 -2.3744\n",
       "3  -2.3436  0.9421"
      ]
     },
     "execution_count": 5,
     "metadata": {},
     "output_type": "execute_result"
    }
   ],
   "source": [
    "# sqlite3 example\n",
    "sql = \"select * from table1\"\n",
    "dbcr.execute(sql)\n",
    "table1 = pd.DataFrame(map(list,dbcr.fetchall()),columns=general.get_columns('table1',dbcr)).set_index(['id'])\n",
    "table1.head(3)"
   ]
  },
  {
   "cell_type": "code",
   "execution_count": 6,
   "id": "b38eaad3",
   "metadata": {},
   "outputs": [
    {
     "name": "stdout",
     "output_type": "stream",
     "text": [
      "Stored 'table1' (DataFrame)\n"
     ]
    }
   ],
   "source": [
    "%store table1"
   ]
  },
  {
   "cell_type": "code",
   "execution_count": null,
   "id": "e30788a2",
   "metadata": {},
   "outputs": [],
   "source": []
  }
 ],
 "metadata": {
  "kernelspec": {
   "display_name": "Python 3",
   "language": "python",
   "name": "python3"
  },
  "language_info": {
   "codemirror_mode": {
    "name": "ipython",
    "version": 3
   },
   "file_extension": ".py",
   "mimetype": "text/x-python",
   "name": "python",
   "nbconvert_exporter": "python",
   "pygments_lexer": "ipython3",
   "version": "3.8.10"
  }
 },
 "nbformat": 4,
 "nbformat_minor": 5
}
