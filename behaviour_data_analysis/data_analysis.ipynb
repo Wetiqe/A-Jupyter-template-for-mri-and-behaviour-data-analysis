{
 "cells": [
  {
   "cell_type": "code",
   "execution_count": 1,
   "id": "df17b666",
   "metadata": {},
   "outputs": [
    {
     "name": "stderr",
     "output_type": "stream",
     "text": [
      "/home/jzni/anaconda3/lib/python3.8/site-packages/outdated/utils.py:14: OutdatedPackageWarning: The package pingouin is out of date. Your version is 0.3.12, the latest is 0.4.0.\n",
      "Set the environment variable OUTDATED_IGNORE=1 to disable these warnings.\n",
      "  return warn(\n"
     ]
    }
   ],
   "source": [
    "import numpy as np\n",
    "import pandas as pd\n",
    "\n",
    "from scipy import stats\n",
    "import pingouin as pg\n",
    "import rpy2.robjects as robjects # use basic R function"
   ]
  },
  {
   "cell_type": "markdown",
   "id": "95e609db",
   "metadata": {},
   "source": [
    "# Scipy.stats"
   ]
  },
  {
   "cell_type": "markdown",
   "id": "12d5e809",
   "metadata": {},
   "source": [
    "## t test"
   ]
  },
  {
   "cell_type": "code",
   "execution_count": null,
   "id": "eccf3786",
   "metadata": {},
   "outputs": [],
   "source": [
    "# normality test\n",
    "stats.shapiro(series)\n",
    "\n",
    "# equal variance\n",
    "lev = stats.levene(Scale_hc[scale],Scale_pt[scale])\n",
    "equal_var = True if lev[1]>0.05 else False\n",
    "\n",
    "# independent t test\n",
    "stats.ttest_ind(s1, s2, equal_var=equal_var)"
   ]
  },
  {
   "cell_type": "markdown",
   "id": "0199d94f",
   "metadata": {},
   "source": [
    "## Correlation analysis"
   ]
  },
  {
   "cell_type": "code",
   "execution_count": null,
   "id": "aa62ad7a",
   "metadata": {},
   "outputs": [],
   "source": [
    "stats.pearsonr(df[x_label], df[y_label])"
   ]
  },
  {
   "cell_type": "markdown",
   "id": "b8da841e",
   "metadata": {},
   "source": [
    "# Pingouin"
   ]
  },
  {
   "cell_type": "code",
   "execution_count": null,
   "id": "2bfa4ae9",
   "metadata": {},
   "outputs": [],
   "source": [
    "pg.ancova\n",
    "ancova(data=ancova_df, dv=str(scale), between='Type', covar='Age')"
   ]
  },
  {
   "cell_type": "code",
   "execution_count": null,
   "id": "c0589bf0",
   "metadata": {},
   "outputs": [],
   "source": [
    "pg.multivariate_normality"
   ]
  },
  {
   "cell_type": "code",
   "execution_count": null,
   "id": "92ec4daf",
   "metadata": {},
   "outputs": [],
   "source": [
    "pg.mediation_analysis(data=Scale_corr_1, x='VAS', m='PSQ', y='SAI', n_boot=nreps)"
   ]
  }
 ],
 "metadata": {
  "kernelspec": {
   "display_name": "Python 3",
   "language": "python",
   "name": "python3"
  },
  "language_info": {
   "codemirror_mode": {
    "name": "ipython",
    "version": 3
   },
   "file_extension": ".py",
   "mimetype": "text/x-python",
   "name": "python",
   "nbconvert_exporter": "python",
   "pygments_lexer": "ipython3",
   "version": "3.8.10"
  }
 },
 "nbformat": 4,
 "nbformat_minor": 5
}
