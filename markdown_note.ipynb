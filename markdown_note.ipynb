{
 "cells": [
  {
   "cell_type": "markdown",
   "id": "8d137a95",
   "metadata": {},
   "source": [
    "<font size=8><mark>highlight with font size 8</mark></font>"
   ]
  },
  {
   "cell_type": "code",
   "execution_count": null,
   "id": "0c02a6d6",
   "metadata": {},
   "outputs": [],
   "source": []
  }
 ],
 "metadata": {
  "kernelspec": {
   "display_name": "Python 3",
   "language": "python",
   "name": "python3"
  },
  "language_info": {
   "codemirror_mode": {
    "name": "ipython",
    "version": 3
   },
   "file_extension": ".py",
   "mimetype": "text/x-python",
   "name": "python",
   "nbconvert_exporter": "python",
   "pygments_lexer": "ipython3",
   "version": "3.8.10"
  }
 },
 "nbformat": 4,
 "nbformat_minor": 5
}
