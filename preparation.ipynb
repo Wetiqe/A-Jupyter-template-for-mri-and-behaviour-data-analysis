{
 "cells": [
  {
   "cell_type": "markdown",
   "id": "67dda313",
   "metadata": {},
   "source": [
    "# Create virtual enviroment and Run it in jupyter lab\n",
    "ref:https://blog.csdn.net/sdnuwjw/article/details/111940416  \n",
    "https://www.cnblogs.com/lemonbit/p/7068091.html   \n",
    "following commands runs in terminal"
   ]
  },
  {
   "cell_type": "code",
   "execution_count": null,
   "id": "df053abc",
   "metadata": {},
   "outputs": [],
   "source": [
    "# create virtual enviroment\n",
    "conda create -n name python=3.7 ipykernel  # create virtual env at Anaconda3/envs/\n",
    "conda create --prefix=~/name python=3.7 ipykernel# create virtual env at specific location\n",
    "# install ipykernel for existing env\n",
    "conda install -n name ipykernel # for specific location, same as above, use prefix\n"
   ]
  },
  {
   "cell_type": "code",
   "execution_count": null,
   "id": "ab4d502b",
   "metadata": {},
   "outputs": [],
   "source": [
    "# activate new enviroment\n",
    "conda activate name"
   ]
  },
  {
   "cell_type": "code",
   "execution_count": null,
   "id": "1866078c",
   "metadata": {},
   "outputs": [],
   "source": [
    "# write this env into jupyter notebook\n",
    "python -m ipykernel install --user --name name \\\n",
    "--display-name \"name you want to show in jupyter\""
   ]
  },
  {
   "cell_type": "markdown",
   "id": "5f89c209",
   "metadata": {},
   "source": [
    "Run jupyter lab and change the kernel"
   ]
  },
  {
   "cell_type": "code",
   "execution_count": null,
   "id": "22da2a15",
   "metadata": {},
   "outputs": [],
   "source": [
    "# install packages\n",
    "pip install package\n",
    "# or\n",
    "conda install -prefix=~/name package"
   ]
  },
  {
   "cell_type": "code",
   "execution_count": null,
   "id": "aa2b306c",
   "metadata": {},
   "outputs": [],
   "source": [
    "# quit virtual env\n",
    "conda deactivate\n",
    "# delete virtual env\n",
    "conda remove --prefix=~/name --all"
   ]
  },
  {
   "cell_type": "markdown",
   "id": "ae4cf83a",
   "metadata": {},
   "source": [
    "# Install local package pysetup"
   ]
  },
  {
   "cell_type": "code",
   "execution_count": null,
   "id": "803f31e9",
   "metadata": {},
   "outputs": [],
   "source": [
    "from distutils.core import setup\n",
    "setup(\n",
    "name=\"pysetup\"，\n",
    "version=\"1.0\"，\n",
    "description=\"edited by myself\"，\n",
    "author=\"pysetup\"，\n",
    "py_modules=[\"pysetup.general\"，\"pysetup.plot\",\"pysetup.r\",\"pysetup.stat\"]\n",
    ")\n"
   ]
  },
  {
   "cell_type": "markdown",
   "id": "532a971e",
   "metadata": {},
   "source": [
    "# Install some useful packages"
   ]
  },
  {
   "cell_type": "code",
   "execution_count": 5,
   "id": "0c1c302d",
   "metadata": {},
   "outputs": [
    {
     "name": "stdout",
     "output_type": "stream",
     "text": [
      "Stored 'project_path' (str)\n"
     ]
    }
   ],
   "source": [
    "import os\n",
    "import sys\n",
    "# temporaly chagne sys.path\n",
    "project_path = sys.path[0]\n",
    "sys.path.append(project_path)"
   ]
  },
  {
   "cell_type": "code",
   "execution_count": null,
   "id": "d0b838f0",
   "metadata": {},
   "outputs": [],
   "source": [
    "!pip install -r requirements.txt -q"
   ]
  },
  {
   "cell_type": "markdown",
   "id": "d8a57308",
   "metadata": {},
   "source": [
    "# Install kernels for different languages\n",
    "所有可以安装的内核：https://github.com/jupyter/jupyter/wiki/Jupyter-kernels   \n",
    "查看已经安装的内核:\n",
    "``` bash\n",
    "jupyter kernelspec list\n",
    "```\n",
    "## R kernel"
   ]
  },
  {
   "cell_type": "markdown",
   "id": "ad2e9d5e",
   "metadata": {},
   "source": [
    "Install R and open a r console, enter these commands\n",
    "``` R\n",
    "# set tsinghua source if you are in china\n",
    "mirrors options(repos=structure(c(CRAN=\"https://mirrors.tuna.tsinghua.edu.cn/CRAN/\")))\n",
    "# Install IRkernel to use R in jupyter notebook\n",
    "install.packages('IRkernel')\n",
    "# Activate IRkernel\n",
    "IRkermnel::installspec()\n",
    "```"
   ]
  },
  {
   "cell_type": "markdown",
   "id": "ccd159ce",
   "metadata": {},
   "source": [
    "## Bash kernel"
   ]
  },
  {
   "cell_type": "markdown",
   "id": "60f1932b",
   "metadata": {},
   "source": [
    "Open the terminal and enter these commands\n",
    "``` bash\n",
    "pip install bash_kernel\n",
    "python -m bash_kernel.install\n",
    "```"
   ]
  },
  {
   "cell_type": "markdown",
   "id": "7c830564",
   "metadata": {},
   "source": [
    "## Matlab kernel"
   ]
  },
  {
   "cell_type": "markdown",
   "id": "d8a1e35c",
   "metadata": {},
   "source": [
    "Install matlab and then open the terminal, enter these commands\n",
    "``` bash\n",
    "pip install matlab_kernel\n",
    "```\n",
    "check github for more details: https://github.com/Calysto/matlab_kernel"
   ]
  },
  {
   "cell_type": "markdown",
   "id": "0324ada6",
   "metadata": {},
   "source": [
    "# Run jupyter on a server"
   ]
  },
  {
   "cell_type": "markdown",
   "id": "717f178c",
   "metadata": {},
   "source": [
    "``` bash\n",
    "wget https://repo.anaconda.com/archive/Anaconda3-5.3.0-Linux-x86_64.sh\n",
    "sh Anaconda3-5.3.0-Linux-x86_64.sh\n",
    "```\n",
    "follow the instruction and install anaconda\n",
    "``` bash\n",
    "# activate\n",
    "source ~/.bashrc\n",
    " export PATH=~/anaconda3/bin:$PATH\n",
    " \n",
    "jupyter notebook --generate-config --allow-root\n",
    "# generate password\n",
    "ipython\n",
    "```\n",
    "``` python\n",
    "from notebook.auth import passwd\n",
    "passwd()\n",
    "```\n",
    "``` bash\n",
    "vi /root/.jupyter/jupyter_notebook_config.py  # 修改配置文件\n",
    "c.NotebookApp.ip= ip\n",
    "c.NotebookApp.password = password\n",
    "c.NotebookApp.open_browser = False\n",
    "c.NotebookApp.port = port\n",
    "# close vi\n",
    "\n",
    "jupyter notebook --ip=0.0.0.0 --no-browser --allow-root # visit jupyter at ip:port\n",
    "nohup jupyter notebook & # jupyter lab stay in background     \n",
    " ```"
   ]
  },
  {
   "cell_type": "code",
   "execution_count": null,
   "id": "a89731aa",
   "metadata": {},
   "outputs": [],
   "source": []
  }
 ],
 "metadata": {
  "kernelspec": {
   "display_name": "Python 3",
   "language": "python",
   "name": "python3"
  },
  "language_info": {
   "codemirror_mode": {
    "name": "ipython",
    "version": 3
   },
   "file_extension": ".py",
   "mimetype": "text/x-python",
   "name": "python",
   "nbconvert_exporter": "python",
   "pygments_lexer": "ipython3",
   "version": "3.8.10"
  }
 },
 "nbformat": 4,
 "nbformat_minor": 5
}
