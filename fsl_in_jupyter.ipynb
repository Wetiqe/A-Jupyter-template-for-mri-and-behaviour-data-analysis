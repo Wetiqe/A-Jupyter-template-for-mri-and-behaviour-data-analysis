{
 "cells": [
  {
   "cell_type": "code",
   "execution_count": 1,
   "id": "3218db5e",
   "metadata": {},
   "outputs": [
    {
     "name": "stdout",
     "output_type": "stream",
     "text": [
      "\n",
      "Automagic is OFF, % prefix IS needed for line magics.\n"
     ]
    }
   ],
   "source": [
    "%automagic 0"
   ]
  },
  {
   "cell_type": "markdown",
   "id": "fb37d47d",
   "metadata": {},
   "source": [
    "# Using FSL in Jupyter \n",
    "Note: This tutorial will assumes you have some very fundamental knowledge of Python and unix shell, and installed fsl correctly on your current machine "
   ]
  },
  {
   "cell_type": "markdown",
   "id": "a4bc2d3e-b3b7-4fcd-bbeb-22cbcef56540",
   "metadata": {},
   "source": [
    "## Why bother?\n",
    "Jupyter provides a great way to keep your code recorded and organised. And if used properly, it allows you to use bash and python together, thus making things easier. What's more, it is also a great way to show your code and results to others since it presents things well and makes every step traceable. "
   ]
  },
  {
   "cell_type": "markdown",
   "id": "a7002c11",
   "metadata": {},
   "source": [
    "## How to do it\n",
    "There are a few ways that you can use FSL in a jupyter notebook. \n",
    "\n",
    "The **first way is the easiest** and handiest way to use which is running command line tools in jupyter notebooks. This is highly recommended.\n",
    "* There are multiple ways to do it, but the simplest way is using exclamation marks `!`.\n",
    "* It is possible to interact bash variables and python variables so this means you can write bash code and python code together if well formatted.\n",
    "\n",
    "The other ways please check my other bolgs\n",
    "\n"
   ]
  },
  {
   "cell_type": "markdown",
   "id": "90bf56e1",
   "metadata": {},
   "source": [
    "# Use command line tool in notebook\n",
    "This part mainly relies on IPython magic functions. Click [here](https://ipython.readthedocs.io/en/stable/interactive/magics.html) to learn more about magic functions.\n",
    "\n",
    "\n",
    "Note: the magic function starts with `%` only works for one line, starts with `%%` works for the whole cell "
   ]
  },
  {
   "cell_type": "markdown",
   "id": "26ea8f64",
   "metadata": {},
   "source": [
    "## Exclamation mark\n",
    "Use `!` in front of the code to execute it in shell and capture the output\n",
    "Note: all the characters behind! will be interpreted in the shell.    "
   ]
  },
  {
   "cell_type": "code",
   "execution_count": 2,
   "id": "953d4eb1",
   "metadata": {},
   "outputs": [
    {
     "name": "stdout",
     "output_type": "stream",
     "text": [
      "participants.tsv  sub-101  sub-102  sub-201  sub-202  T1w.json\tvbm\n"
     ]
    }
   ],
   "source": [
    "!ls example_data"
   ]
  },
  {
   "cell_type": "code",
   "execution_count": 3,
   "id": "c9c15575",
   "metadata": {},
   "outputs": [
    {
     "name": "stdout",
     "output_type": "stream",
     "text": [
      "Type of the variable: <class 'IPython.utils.text.SList'>\n",
      "Value of the variable: ['participants.tsv', 'sub-101', 'sub-102', 'sub-201', 'sub-202', 'T1w.json', 'vbm']\n"
     ]
    }
   ],
   "source": [
    "# if you use a variable to cautures the result, IPython will atuomatically segment\n",
    "# it into a list which works like a normal list\n",
    "folders = !ls example_data\n",
    "print(\"Type of the variable:\", type(folders))\n",
    "print(\"Value of the variable:\" , folders)"
   ]
  },
  {
   "cell_type": "code",
   "execution_count": 4,
   "id": "60d5dd25",
   "metadata": {},
   "outputs": [
    {
     "name": "stdout",
     "output_type": "stream",
     "text": [
      ".n attr\n",
      "participants.tsv\n",
      "sub-101\n",
      "sub-102\n",
      "sub-201\n",
      "sub-202\n",
      "T1w.json\n",
      "vbm \n",
      "----\n",
      ".s attr\n",
      "participants.tsv sub-101 sub-102 sub-201 sub-202 T1w.json vbm \n",
      "----\n",
      ".p attr\n",
      "[PosixPath('/home/jzni/fsl_jupyter')] \n",
      "----\n"
     ]
    }
   ],
   "source": [
    "# The list returned by IPython have special attributes:\n",
    "print(\".n attr\")\n",
    "print(folders.n, '\\n----') # return value as a string, joined on \\n\n",
    "print(\".s attr\")\n",
    "print(folders.s, '\\n----') # return value as a string, joined on spaces\n",
    "print(\".p attr\")\n",
    "import path\n",
    "direct = !pwd\n",
    "print(direct.p, '\\n----') # list of path objects (requires path.py package)\n"
   ]
  },
  {
   "cell_type": "markdown",
   "id": "49d78d8a",
   "metadata": {},
   "source": [
    "## Define an alias for a shell command.\n",
    "`%alias` allows you to turn a shell command into a Python magic function"
   ]
  },
  {
   "cell_type": "code",
   "execution_count": 5,
   "id": "6088fa7f-f900-42ca-95e1-4090d85cc303",
   "metadata": {},
   "outputs": [],
   "source": [
    "ex_img_dir = 'database/example_bids_data/sub-101/ses-1/anat/sub-101_ses-1_T1w.nii.gz'"
   ]
  },
  {
   "cell_type": "code",
   "execution_count": 6,
   "id": "010fd103",
   "metadata": {},
   "outputs": [],
   "source": [
    "# basic usage:\n",
    "# %alias alias_name system_command\n",
    "%alias feyes fsleyes\n",
    "%feyes $ex_img_dir -cm \"greyscale\""
   ]
  },
  {
   "cell_type": "code",
   "execution_count": 7,
   "id": "9a85c728",
   "metadata": {},
   "outputs": [],
   "source": [
    "# advanced usage: you can include parameters or wildcard character(%s or %l) to represent input\n",
    "# in the syntax to simplify the aliased command\n",
    "\n",
    "# %alias alias_name system_command %s -params \n",
    "%alias feyes fsleyes %s -cm \"red-yellow\"\n",
    "%feyes $ex_img_dir"
   ]
  },
  {
   "cell_type": "markdown",
   "id": "13bf0013",
   "metadata": {},
   "source": [
    "## Run the whole cell in shell"
   ]
  },
  {
   "cell_type": "markdown",
   "id": "00999d3c",
   "metadata": {},
   "source": [
    "The first way is **not actually** running the cell like other methods.     \n",
    "You can use `;` and `\\` to extend one line of code infinitely.      \n",
    "**Note:** The advantage of this method is you can still access the variables from python kernel "
   ]
  },
  {
   "cell_type": "code",
   "execution_count": 1,
   "id": "49844c03",
   "metadata": {},
   "outputs": [],
   "source": [
    "ls = !ls -d database/example_bids_data/*"
   ]
  },
  {
   "cell_type": "code",
   "execution_count": 2,
   "id": "bc4b9511",
   "metadata": {},
   "outputs": [
    {
     "name": "stdout",
     "output_type": "stream",
     "text": [
      "[example_data/participants.tsv,\n",
      "example_data/sub-101,\n",
      "example_data/sub-102,\n",
      "example_data/sub-201,\n",
      "example_data/sub-202,\n",
      "example_data/T1w.json]\n"
     ]
    }
   ],
   "source": [
    "!for sub in {ls} ; do \\\n",
    "echo $$sub ;\\\n",
    "done"
   ]
  },
  {
   "cell_type": "markdown",
   "id": "8ebb93bb",
   "metadata": {},
   "source": [
    "There are multiple other ways you can run a cell in shell, they are hardly different.     \n",
    "Just type `%%!` `%%system` `%%script bash` at the first line of the cell.     \n",
    "**Note**: it is **not possible** to access the variable in python kernel if you are using these methods"
   ]
  },
  {
   "cell_type": "code",
   "execution_count": 10,
   "id": "2434f970",
   "metadata": {},
   "outputs": [
    {
     "data": {
      "text/plain": [
       "['participants.tsv', 'sub-101', 'sub-102', 'sub-201', 'sub-202', 'T1w.json']"
      ]
     },
     "execution_count": 10,
     "metadata": {},
     "output_type": "execute_result"
    }
   ],
   "source": [
    "%%!\n",
    "for sub in `ls example_data` ; do \n",
    "echo $sub \n",
    "done"
   ]
  },
  {
   "cell_type": "code",
   "execution_count": 11,
   "id": "3c05384b",
   "metadata": {},
   "outputs": [
    {
     "data": {
      "text/plain": [
       "[\"/bin/bash: -c: line 2: syntax error near unexpected token `done'\",\n",
       " \"/bin/bash: -c: line 2: `done'\"]"
      ]
     },
     "execution_count": 11,
     "metadata": {},
     "output_type": "execute_result"
    }
   ],
   "source": [
    "%%!\n",
    "for sub in {ls} ; do \\\n",
    "echo $$sub ;\\\n",
    "done"
   ]
  },
  {
   "cell_type": "markdown",
   "id": "8c7889e8",
   "metadata": {
    "tags": []
   },
   "source": [
    "## Run a cell via a shell command"
   ]
  },
  {
   "cell_type": "markdown",
   "id": "837def61",
   "metadata": {},
   "source": [
    "`%%script` is a very versatile magic command, the most helpful way to use this command is access other kernels through it     \n",
    "for example, matlab, Rscript, SQL, Ruby, Perl etc.\n"
   ]
  },
  {
   "cell_type": "code",
   "execution_count": 12,
   "id": "729c4fc7",
   "metadata": {},
   "outputs": [
    {
     "name": "stdout",
     "output_type": "stream",
     "text": [
      "\n",
      "                            < M A T L A B (R) >\n",
      "                  Copyright 1984-2021 The MathWorks, Inc.\n",
      "             R2021a Update 5 (9.10.0.1739362) 64-bit (glnxa64)\n",
      "                               August 9, 2021\n",
      "\n",
      " \n",
      "To get started, type doc.\n",
      "For product information, visit www.mathworks.com.\n",
      " \n",
      ">> \n",
      "a =\n",
      "\n",
      "     1\n",
      "\n",
      ">> \n",
      "b =\n",
      "\n",
      "     2\n",
      "\n",
      ">> \n",
      "ans =\n",
      "\n",
      "     3\n",
      "\n",
      ">> "
     ]
    }
   ],
   "source": [
    "%%script matlab\n",
    "a = 1\n",
    "b = 2\n",
    "a + b"
   ]
  },
  {
   "cell_type": "markdown",
   "id": "51dae28a-9690-4342-9370-05b06fa0e899",
   "metadata": {},
   "source": [
    "## Variable Expansion in IPython\n",
    "As you can see above, if you wnat to pass a Python Variable to your shell command via magic command, you can use `$` in front of the Python variable, or enclose variables using `{}`. "
   ]
  },
  {
   "cell_type": "code",
   "execution_count": 13,
   "id": "d3b48a62-91b0-4442-b659-f245e8671f56",
   "metadata": {},
   "outputs": [
    {
     "data": {
      "text/plain": [
       "'example_data/sub-101/ses-1/anat/sub-101_ses-1_T1w.nii.gz'"
      ]
     },
     "execution_count": 13,
     "metadata": {},
     "output_type": "execute_result"
    }
   ],
   "source": [
    "ex_img_dir"
   ]
  },
  {
   "cell_type": "code",
   "execution_count": 14,
   "id": "23658c6e-d327-45e9-8f93-6d34df10dffe",
   "metadata": {},
   "outputs": [
    {
     "name": "stdout",
     "output_type": "stream",
     "text": [
      "Image Exception : #63 :: No image files match: ex_img_dir\n",
      "No image files match: ex_img_dir\n"
     ]
    }
   ],
   "source": [
    "!fslinfo ex_img_dir"
   ]
  },
  {
   "cell_type": "code",
   "execution_count": 15,
   "id": "e3300c6e-3657-41f6-a46b-d63887160558",
   "metadata": {},
   "outputs": [
    {
     "name": "stdout",
     "output_type": "stream",
     "text": [
      "data_type\tFLOAT32\n",
      "dim1\t\t256\n",
      "dim2\t\t182\n",
      "dim3\t\t256\n",
      "dim4\t\t1\n",
      "datatype\t16\n",
      "pixdim1\t\t0.880000\n",
      "pixdim2\t\t1.200000\n",
      "pixdim3\t\t0.880000\n",
      "pixdim4\t\t0.000000\n",
      "cal_max\t\t0.000000\n",
      "cal_min\t\t0.000000\n",
      "file_type\tNIFTI-1+\n"
     ]
    }
   ],
   "source": [
    "!fslinfo $ex_img_dir"
   ]
  },
  {
   "cell_type": "code",
   "execution_count": 16,
   "id": "b70231b1-a3a8-46b5-a688-2ede70f42005",
   "metadata": {},
   "outputs": [
    {
     "name": "stdout",
     "output_type": "stream",
     "text": [
      "data_type\tFLOAT32\n",
      "dim1\t\t256\n",
      "dim2\t\t182\n",
      "dim3\t\t256\n",
      "dim4\t\t1\n",
      "datatype\t16\n",
      "pixdim1\t\t0.880000\n",
      "pixdim2\t\t1.200000\n",
      "pixdim3\t\t0.880000\n",
      "pixdim4\t\t0.000000\n",
      "cal_max\t\t0.000000\n",
      "cal_min\t\t0.000000\n",
      "file_type\tNIFTI-1+\n"
     ]
    }
   ],
   "source": [
    "!fslinfo {ex_img_dir}"
   ]
  },
  {
   "cell_type": "markdown",
   "id": "32aea3c8-f796-490b-938f-8296902c6958",
   "metadata": {},
   "source": [
    "Note: If you are using a variable defined in shell, you will need `$$` in front of the variable."
   ]
  },
  {
   "cell_type": "code",
   "execution_count": 17,
   "id": "64c69dcc-d8dc-461e-916c-ba9c8a098277",
   "metadata": {},
   "outputs": [
    {
     "name": "stdout",
     "output_type": "stream",
     "text": [
      "participants.tsv\n",
      "sub-101\n",
      "sub-102\n",
      "sub-201\n",
      "sub-202\n",
      "T1w.json\n",
      "vbm\n"
     ]
    }
   ],
   "source": [
    "!for sub in `ls example_data`; do \\\n",
    "echo $$sub ;\\\n",
    "done"
   ]
  },
  {
   "cell_type": "markdown",
   "id": "deb3ed4f-44f1-4fe5-935a-eba775e79a70",
   "metadata": {},
   "source": [
    "# An Example\n",
    "The data we use is from [T1-weighted structural MRI study of cannabis users at baseline and 3 years follow up](https://openneuro.org/datasets/ds000174/versions/1.0.1). We selected four subjects from orginal dataset, two health controls and two cannabis users.\n",
    "\n",
    "Here we will perform a simplified VBM analysis on the T1 image from the first session."
   ]
  },
  {
   "cell_type": "markdown",
   "id": "4d8e38a2-cc40-4fdc-9238-5b64f026331f",
   "metadata": {},
   "source": [
    "## Setup"
   ]
  },
  {
   "cell_type": "code",
   "execution_count": 1,
   "id": "52d011df-a6ae-48a3-9e02-bc7ac42cf0cb",
   "metadata": {},
   "outputs": [],
   "source": [
    "from matplotlib import pyplot as plt\n",
    "import pandas as pd\n",
    "import contextlib\n",
    "import io\n",
    "import IPython.display\n",
    "from shutil import copy"
   ]
  },
  {
   "cell_type": "code",
   "execution_count": 2,
   "id": "8927b175-fd4f-472f-90de-9fed639db5eb",
   "metadata": {},
   "outputs": [],
   "source": [
    "@contextlib.contextmanager\n",
    "def colapsible_stdout(name: str = 'stdout'):\n",
    "    \"\"\"Collapse the long output of the cell\"\"\"\n",
    "    f = io.StringIO()\n",
    "    with contextlib.redirect_stdout(f):\n",
    "        yield\n",
    "        content = f.getvalue()\n",
    "        content = content.replace('\\n', '<br/>')\n",
    "        content = IPython.display.HTML(\n",
    "          f'<details><summary>{name}</summary>{content}</details>'\n",
    "        )\n",
    "    IPython.display.display(content)"
   ]
  },
  {
   "cell_type": "markdown",
   "id": "23867440-610d-42d9-80c4-473659e37002",
   "metadata": {
    "tags": []
   },
   "source": [
    "## Preparation\n",
    "### Get T1 image\n"
   ]
  },
  {
   "cell_type": "code",
   "execution_count": 4,
   "id": "c7add6ad-cc0c-4eed-8b4f-21f0570edca5",
   "metadata": {},
   "outputs": [],
   "source": [
    "base_dir = 'database/example_bids_data/'"
   ]
  },
  {
   "cell_type": "code",
   "execution_count": 5,
   "id": "81f6ea9b-e7d1-4b38-8549-b647a583d05a",
   "metadata": {},
   "outputs": [
    {
     "name": "stdout",
     "output_type": "stream",
     "text": [
      "/home/jzni/fsl_jupyter/example_data\n"
     ]
    }
   ],
   "source": [
    "# Create folder for analysis\n",
    "%cd $base_dir/\n",
    "!mkdir vbm\n",
    "!mkdir vbm/raw_data\n",
    "!mkdir vbm/anat_corr"
   ]
  },
  {
   "cell_type": "code",
   "execution_count": 6,
   "id": "c2fb905e-c261-4fc1-a0fd-a545749d35d7",
   "metadata": {},
   "outputs": [
    {
     "data": {
      "text/plain": [
       "['sub-101', 'sub-102', 'sub-201']"
      ]
     },
     "execution_count": 6,
     "metadata": {},
     "output_type": "execute_result"
    }
   ],
   "source": [
    "sub_list = !ls -d sub*\n",
    "sub_list[:3]"
   ]
  },
  {
   "cell_type": "code",
   "execution_count": 7,
   "id": "829bb339-6401-4bfa-b420-339dd8ff515c",
   "metadata": {},
   "outputs": [],
   "source": [
    "# Gather T1 image\n",
    "img_type = 'anat'\n",
    "img_type2 = 'T1w'\n",
    "ses = 'ses-1'\n",
    "ending = \"nii.gz\"\n",
    "\n",
    "for sub in sub_list:\n",
    "    file = '{}/{}/{}/{}_{}_{}.{}'.format(\n",
    "            sub, ses, img_type, sub, ses, img_type2, ending)\n",
    "    copy(file, 'vbm/raw_data/')"
   ]
  },
  {
   "cell_type": "code",
   "execution_count": 8,
   "id": "188cd423-ee6b-4d03-8fea-cf099893dc79",
   "metadata": {},
   "outputs": [
    {
     "name": "stdout",
     "output_type": "stream",
     "text": [
      "/home/jzni/fsl_jupyter/example_data/vbm/raw_data\n",
      "sub-101_ses-1_T1w\n",
      "sub-102_ses-1_T1w\n",
      "sub-201_ses-1_T1w\n",
      "sub-202_ses-1_T1w\n",
      "\n",
      "Finished. To view, point your web browser at\n",
      "file:/home/jzni/fsl_jupyter/example_data/vbm/raw_data/slicesdir/index.html\n"
     ]
    }
   ],
   "source": [
    "# Check the T1 images\n",
    "%cd vbm/raw_data\n",
    "!slicesdir `imglob *`"
   ]
  },
  {
   "cell_type": "code",
   "execution_count": 52,
   "id": "fed13cb7-597a-429a-8846-0cfed0581b68",
   "metadata": {},
   "outputs": [
    {
     "name": "stdout",
     "output_type": "stream",
     "text": [
      "Opening in existing browser session.\n",
      "/home/jzni/fsl_jupyter/example_data/vbm\n"
     ]
    }
   ],
   "source": [
    "!google-chrome slicesdir/index.html\n",
    "%cd .."
   ]
  },
  {
   "cell_type": "markdown",
   "id": "9c1cae9e-6f17-4b99-bf9d-c3cf05ca0b25",
   "metadata": {},
   "source": [
    "### Bias Field correction"
   ]
  },
  {
   "cell_type": "code",
   "execution_count": 11,
   "id": "7637dc84-9251-481b-a4fa-cba734bb7874",
   "metadata": {
    "tags": []
   },
   "outputs": [
    {
     "data": {
      "text/html": [
       "<details><summary>fsl_anat</summary>Sun Dec  5 18:25:59 GMT 2021\r",
       "<br/>Reorienting to standard orientation\r",
       "<br/>Sun Dec  5 18:26:02 GMT 2021\r",
       "<br/>Automatically cropping the image\r",
       "<br/>Starting Single Image Segmentation\r",
       "<br/>T1-weighted image\r",
       "<br/>Imagesize : 256 x 182 x 193\r",
       "<br/>Pixelsize : 0.88 x 1.2 x 0.88\r",
       "<br/>\r",
       "<br/>1 5.96078\r",
       "<br/>2 6.43758\r",
       "<br/>3 6.87552\r",
       "<br/>KMeans Iteration 0\r",
       "<br/>KMeans Iteration 1\r",
       "<br/>KMeans Iteration 2\r",
       "<br/>KMeans Iteration 3\r",
       "<br/>KMeans Iteration 4\r",
       "<br/>KMeans Iteration 5\r",
       "<br/>KMeans Iteration 6\r",
       "<br/>KMeans Iteration 7\r",
       "<br/>KMeans Iteration 8\r",
       "<br/>KMeans Iteration 9\r",
       "<br/>KMeans Iteration 10\r",
       "<br/>KMeans Iteration 11\r",
       "<br/>KMeans Iteration 12\r",
       "<br/>KMeans Iteration 13\r",
       "<br/>KMeans Iteration 14\r",
       "<br/>Tanaka Iteration 0 bias field 10\r",
       "<br/>Tanaka-inner-loop-iteration=0 MRFWeightsTotal=1.4079e+07 beta=0.02\r",
       "<br/>Tanaka-inner-loop-iteration=1 MRFWeightsTotal=1.42704e+07 beta=0.02\r",
       "<br/>Tanaka-inner-loop-iteration=2 MRFWeightsTotal=1.4275e+07 beta=0.02\r",
       "<br/>Tanaka-inner-loop-iteration=3 MRFWeightsTotal=1.42752e+07 beta=0.02\r",
       "<br/>Tanaka-inner-loop-iteration=4 MRFWeightsTotal=1.42752e+07 beta=0.02\r",
       "<br/> CLASS 1 MEAN 262.05 STDDEV 266.841 CLASS 2 MEAN 551.725 STDDEV 160.082 CLASS 3 MEAN 1045.56 STDDEV 155.502\r",
       "<br/>Tanaka Iteration 1 bias field 10\r",
       "<br/>Tanaka-inner-loop-iteration=0 MRFWeightsTotal=1.44465e+07 beta=0.02\r",
       "<br/>Tanaka-inner-loop-iteration=1 MRFWeightsTotal=1.46237e+07 beta=0.02\r",
       "<br/>Tanaka-inner-loop-iteration=2 MRFWeightsTotal=1.46277e+07 beta=0.02\r",
       "<br/>Tanaka-inner-loop-iteration=3 MRFWeightsTotal=1.46278e+07 beta=0.02\r",
       "<br/>Tanaka-inner-loop-iteration=4 MRFWeightsTotal=1.46279e+07 beta=0.02\r",
       "<br/> CLASS 1 MEAN 257.029 STDDEV 252.592 CLASS 2 MEAN 553.669 STDDEV 150.009 CLASS 3 MEAN 1000.97 STDDEV 110.995\r",
       "<br/>Tanaka Iteration 2 bias field 10\r",
       "<br/>Tanaka-inner-loop-iteration=0 MRFWeightsTotal=1.46454e+07 beta=0.02\r",
       "<br/>Tanaka-inner-loop-iteration=1 MRFWeightsTotal=1.48128e+07 beta=0.02\r",
       "<br/>Tanaka-inner-loop-iteration=2 MRFWeightsTotal=1.48166e+07 beta=0.02\r",
       "<br/>Tanaka-inner-loop-iteration=3 MRFWeightsTotal=1.48167e+07 beta=0.02\r",
       "<br/>Tanaka-inner-loop-iteration=4 MRFWeightsTotal=1.48167e+07 beta=0.02\r",
       "<br/> CLASS 1 MEAN 253.228 STDDEV 245.744 CLASS 2 MEAN 553.917 STDDEV 142.062 CLASS 3 MEAN 1002.68 STDDEV 98.4975\r",
       "<br/>Tanaka Iteration 3 bias field 10\r",
       "<br/>Tanaka-inner-loop-iteration=0 MRFWeightsTotal=1.47405e+07 beta=0.02\r",
       "<br/>Tanaka-inner-loop-iteration=1 MRFWeightsTotal=1.49032e+07 beta=0.02\r",
       "<br/>Tanaka-inner-loop-iteration=2 MRFWeightsTotal=1.49069e+07 beta=0.02\r",
       "<br/>Tanaka-inner-loop-iteration=3 MRFWeightsTotal=1.4907e+07 beta=0.02\r",
       "<br/>Tanaka-inner-loop-iteration=4 MRFWeightsTotal=1.4907e+07 beta=0.02\r",
       "<br/> CLASS 1 MEAN 252.191 STDDEV 243.546 CLASS 2 MEAN 556.328 STDDEV 139.105 CLASS 3 MEAN 1009.39 STDDEV 92.5223\r",
       "<br/>Tanaka Iteration 4 bias field 10\r",
       "<br/>Tanaka-inner-loop-iteration=0 MRFWeightsTotal=1.47815e+07 beta=0.02\r",
       "<br/>Tanaka-inner-loop-iteration=1 MRFWeightsTotal=1.49424e+07 beta=0.02\r",
       "<br/>Tanaka-inner-loop-iteration=2 MRFWeightsTotal=1.4946e+07 beta=0.02\r",
       "<br/>Tanaka-inner-loop-iteration=3 MRFWeightsTotal=1.49462e+07 beta=0.02\r",
       "<br/>Tanaka-inner-loop-iteration=4 MRFWeightsTotal=1.49462e+07 beta=0.02\r",
       "<br/> CLASS 1 MEAN 252.694 STDDEV 243.192 CLASS 2 MEAN 559.742 STDDEV 138.786 CLASS 3 MEAN 1015.57 STDDEV 88.6651\r",
       "<br/>Tanaka Iteration 5 bias field 10\r",
       "<br/>Tanaka-inner-loop-iteration=0 MRFWeightsTotal=1.47973e+07 beta=0.02\r",
       "<br/>Tanaka-inner-loop-iteration=1 MRFWeightsTotal=1.49577e+07 beta=0.02\r",
       "<br/>Tanaka-inner-loop-iteration=2 MRFWeightsTotal=1.49614e+07 beta=0.02\r",
       "<br/>Tanaka-inner-loop-iteration=3 MRFWeightsTotal=1.49615e+07 beta=0.02\r",
       "<br/>Tanaka-inner-loop-iteration=4 MRFWeightsTotal=1.49615e+07 beta=0.02\r",
       "<br/> CLASS 1 MEAN 253.658 STDDEV 243.483 CLASS 2 MEAN 563.234 STDDEV 139.639 CLASS 3 MEAN 1020.61 STDDEV 85.7955\r",
       "<br/>Tanaka Iteration 6 bias field 10\r",
       "<br/>Tanaka-inner-loop-iteration=0 MRFWeightsTotal=1.48012e+07 beta=0.02\r",
       "<br/>Tanaka-inner-loop-iteration=1 MRFWeightsTotal=1.49619e+07 beta=0.02\r",
       "<br/>Tanaka-inner-loop-iteration=2 MRFWeightsTotal=1.49656e+07 beta=0.02\r",
       "<br/>Tanaka-inner-loop-iteration=3 MRFWeightsTotal=1.49657e+07 beta=0.02\r",
       "<br/>Tanaka-inner-loop-iteration=4 MRFWeightsTotal=1.49657e+07 beta=0.02\r",
       "<br/> CLASS 1 MEAN 254.633 STDDEV 243.944 CLASS 2 MEAN 566.401 STDDEV 140.932 CLASS 3 MEAN 1024.64 STDDEV 83.5851\r",
       "<br/>Tanaka Iteration 7 bias field 10\r",
       "<br/>Tanaka-inner-loop-iteration=0 MRFWeightsTotal=1.48e+07 beta=0.02\r",
       "<br/>Tanaka-inner-loop-iteration=1 MRFWeightsTotal=1.49611e+07 beta=0.02\r",
       "<br/>Tanaka-inner-loop-iteration=2 MRFWeightsTotal=1.49648e+07 beta=0.02\r",
       "<br/>Tanaka-inner-loop-iteration=3 MRFWeightsTotal=1.49649e+07 beta=0.02\r",
       "<br/>Tanaka-inner-loop-iteration=4 MRFWeightsTotal=1.49649e+07 beta=0.02\r",
       "<br/> CLASS 1 MEAN 255.48 STDDEV 244.403 CLASS 2 MEAN 569.114 STDDEV 142.299 CLASS 3 MEAN 1027.83 STDDEV 81.7769\r",
       "<br/>Tanaka Iteration 8 bias field 10\r",
       "<br/>Tanaka-inner-loop-iteration=0 MRFWeightsTotal=1.47962e+07 beta=0.02\r",
       "<br/>Tanaka-inner-loop-iteration=1 MRFWeightsTotal=1.49578e+07 beta=0.02\r",
       "<br/>Tanaka-inner-loop-iteration=2 MRFWeightsTotal=1.49616e+07 beta=0.02\r",
       "<br/>Tanaka-inner-loop-iteration=3 MRFWeightsTotal=1.49617e+07 beta=0.02\r",
       "<br/>Tanaka-inner-loop-iteration=4 MRFWeightsTotal=1.49617e+07 beta=0.02\r",
       "<br/> CLASS 1 MEAN 256.194 STDDEV 244.835 CLASS 2 MEAN 571.386 STDDEV 143.598 CLASS 3 MEAN 1030.4 STDDEV 80.3705\r",
       "<br/>Tanaka Iteration 9 bias field 10\r",
       "<br/>Tanaka-inner-loop-iteration=0 MRFWeightsTotal=1.47916e+07 beta=0.02\r",
       "<br/>Tanaka-inner-loop-iteration=1 MRFWeightsTotal=1.49538e+07 beta=0.02\r",
       "<br/>Tanaka-inner-loop-iteration=2 MRFWeightsTotal=1.49576e+07 beta=0.02\r",
       "<br/>Tanaka-inner-loop-iteration=3 MRFWeightsTotal=1.49577e+07 beta=0.02\r",
       "<br/>Tanaka-inner-loop-iteration=4 MRFWeightsTotal=1.49577e+07 beta=0.02\r",
       "<br/> CLASS 1 MEAN 256.779 STDDEV 245.208 CLASS 2 MEAN 573.252 STDDEV 144.744 CLASS 3 MEAN 1032.44 STDDEV 79.2186\r",
       "<br/>\r",
       "<br/> tissue 1 428200\r",
       "<br/> tissue 2 562643\r",
       "<br/> tissue 3 422247\r",
       "<br/> total tissue 1.41309e+06\r",
       "<br/>Sun Dec  5 18:30:12 GMT 2021\r",
       "<br/>Extrapolating bias field from central region\r",
       "<br/>Cost is 6.28247e-06\r",
       "<br/>Cost is 1.78142e-06\r",
       "<br/>Sun Dec  5 18:30:54 GMT 2021\r",
       "<br/>Performing brain extraction (using BET)\r",
       "<br/>Sun Dec  5 18:30:57 GMT 2021\r",
       "<br/>Cleaning up intermediate files\r",
       "<br/>Sun Dec  5 18:30:59 GMT 2021\r",
       "<br/>Reorienting to standard orientation\r",
       "<br/>Sun Dec  5 18:31:02 GMT 2021\r",
       "<br/>Automatically cropping the image\r",
       "<br/>Starting Single Image Segmentation\r",
       "<br/>T1-weighted image\r",
       "<br/>Imagesize : 256 x 182 x 193\r",
       "<br/>Pixelsize : 0.88 x 1.2 x 0.88\r",
       "<br/>\r",
       "<br/>1 5.60436\r",
       "<br/>2 6.02797\r",
       "<br/>3 6.45291\r",
       "<br/>KMeans Iteration 0\r",
       "<br/>KMeans Iteration 1\r",
       "<br/>KMeans Iteration 2\r",
       "<br/>KMeans Iteration 3\r",
       "<br/>KMeans Iteration 4\r",
       "<br/>KMeans Iteration 5\r",
       "<br/>KMeans Iteration 6\r",
       "<br/>KMeans Iteration 7\r",
       "<br/>KMeans Iteration 8\r",
       "<br/>KMeans Iteration 9\r",
       "<br/>KMeans Iteration 10\r",
       "<br/>KMeans Iteration 11\r",
       "<br/>KMeans Iteration 12\r",
       "<br/>KMeans Iteration 13\r",
       "<br/>KMeans Iteration 14\r",
       "<br/>Tanaka Iteration 0 bias field 10\r",
       "<br/>Tanaka-inner-loop-iteration=0 MRFWeightsTotal=1.56155e+07 beta=0.02\r",
       "<br/>Tanaka-inner-loop-iteration=1 MRFWeightsTotal=1.5837e+07 beta=0.02\r",
       "<br/>Tanaka-inner-loop-iteration=2 MRFWeightsTotal=1.58428e+07 beta=0.02\r",
       "<br/>Tanaka-inner-loop-iteration=3 MRFWeightsTotal=1.5843e+07 beta=0.02\r",
       "<br/>Tanaka-inner-loop-iteration=4 MRFWeightsTotal=1.5843e+07 beta=0.02\r",
       "<br/> CLASS 1 MEAN 191.417 STDDEV 188.873 CLASS 2 MEAN 362.736 STDDEV 95.1914 CLASS 3 MEAN 684.779 STDDEV 110.468\r",
       "<br/>Tanaka Iteration 1 bias field 10\r",
       "<br/>Tanaka-inner-loop-iteration=0 MRFWeightsTotal=1.59595e+07 beta=0.02\r",
       "<br/>Tanaka-inner-loop-iteration=1 MRFWeightsTotal=1.61684e+07 beta=0.02\r",
       "<br/>Tanaka-inner-loop-iteration=2 MRFWeightsTotal=1.61735e+07 beta=0.02\r",
       "<br/>Tanaka-inner-loop-iteration=3 MRFWeightsTotal=1.61737e+07 beta=0.02\r",
       "<br/>Tanaka-inner-loop-iteration=4 MRFWeightsTotal=1.61737e+07 beta=0.02\r",
       "<br/> CLASS 1 MEAN 187.719 STDDEV 177.583 CLASS 2 MEAN 366.499 STDDEV 90.0601 CLASS 3 MEAN 653.531 STDDEV 82.1041\r",
       "<br/>Tanaka Iteration 2 bias field 10\r",
       "<br/>Tanaka-inner-loop-iteration=0 MRFWeightsTotal=1.61438e+07 beta=0.02\r",
       "<br/>Tanaka-inner-loop-iteration=1 MRFWeightsTotal=1.63433e+07 beta=0.02\r",
       "<br/>Tanaka-inner-loop-iteration=2 MRFWeightsTotal=1.63481e+07 beta=0.02\r",
       "<br/>Tanaka-inner-loop-iteration=3 MRFWeightsTotal=1.63483e+07 beta=0.02\r",
       "<br/>Tanaka-inner-loop-iteration=4 MRFWeightsTotal=1.63483e+07 beta=0.02\r",
       "<br/> CLASS 1 MEAN 185.548 STDDEV 173.032 CLASS 2 MEAN 368.172 STDDEV 85.3821 CLASS 3 MEAN 651.122 STDDEV 73.8978\r",
       "<br/>Tanaka Iteration 3 bias field 10\r",
       "<br/>Tanaka-inner-loop-iteration=0 MRFWeightsTotal=1.62416e+07 beta=0.02\r",
       "<br/>Tanaka-inner-loop-iteration=1 MRFWeightsTotal=1.64356e+07 beta=0.02\r",
       "<br/>Tanaka-inner-loop-iteration=2 MRFWeightsTotal=1.64403e+07 beta=0.02\r",
       "<br/>Tanaka-inner-loop-iteration=3 MRFWeightsTotal=1.64404e+07 beta=0.02\r",
       "<br/>Tanaka-inner-loop-iteration=4 MRFWeightsTotal=1.64404e+07 beta=0.02\r",
       "<br/> CLASS 1 MEAN 184.854 STDDEV 171.211 CLASS 2 MEAN 370.002 STDDEV 83.1971 CLASS 3 MEAN 653.205 STDDEV 70.2143\r",
       "<br/>Tanaka Iteration 4 bias field 10\r",
       "<br/>Tanaka-inner-loop-iteration=0 MRFWeightsTotal=1.62914e+07 beta=0.02\r",
       "<br/>Tanaka-inner-loop-iteration=1 MRFWeightsTotal=1.64827e+07 beta=0.02\r",
       "<br/>Tanaka-inner-loop-iteration=2 MRFWeightsTotal=1.64873e+07 beta=0.02\r",
       "<br/>Tanaka-inner-loop-iteration=3 MRFWeightsTotal=1.64874e+07 beta=0.02\r",
       "<br/>Tanaka-inner-loop-iteration=4 MRFWeightsTotal=1.64874e+07 beta=0.02\r",
       "<br/> CLASS 1 MEAN 184.937 STDDEV 170.419 CLASS 2 MEAN 371.931 STDDEV 82.452 CLASS 3 MEAN 655.815 STDDEV 68.093\r",
       "<br/>Tanaka Iteration 5 bias field 10\r",
       "<br/>Tanaka-inner-loop-iteration=0 MRFWeightsTotal=1.63174e+07 beta=0.02\r",
       "<br/>Tanaka-inner-loop-iteration=1 MRFWeightsTotal=1.65073e+07 beta=0.02\r",
       "<br/>Tanaka-inner-loop-iteration=2 MRFWeightsTotal=1.65118e+07 beta=0.02\r",
       "<br/>Tanaka-inner-loop-iteration=3 MRFWeightsTotal=1.6512e+07 beta=0.02\r",
       "<br/>Tanaka-inner-loop-iteration=4 MRFWeightsTotal=1.6512e+07 beta=0.02\r",
       "<br/> CLASS 1 MEAN 185.268 STDDEV 170.059 CLASS 2 MEAN 373.725 STDDEV 82.4166 CLASS 3 MEAN 658.174 STDDEV 66.6428\r",
       "<br/>Tanaka Iteration 6 bias field 10\r",
       "<br/>Tanaka-inner-loop-iteration=0 MRFWeightsTotal=1.63312e+07 beta=0.02\r",
       "<br/>Tanaka-inner-loop-iteration=1 MRFWeightsTotal=1.65203e+07 beta=0.02\r",
       "<br/>Tanaka-inner-loop-iteration=2 MRFWeightsTotal=1.65248e+07 beta=0.02\r",
       "<br/>Tanaka-inner-loop-iteration=3 MRFWeightsTotal=1.6525e+07 beta=0.02\r",
       "<br/>Tanaka-inner-loop-iteration=4 MRFWeightsTotal=1.6525e+07 beta=0.02\r",
       "<br/> CLASS 1 MEAN 185.625 STDDEV 169.892 CLASS 2 MEAN 375.281 STDDEV 82.7034 CLASS 3 MEAN 660.174 STDDEV 65.5428\r",
       "<br/>Tanaka Iteration 7 bias field 10\r",
       "<br/>Tanaka-inner-loop-iteration=0 MRFWeightsTotal=1.63379e+07 beta=0.02\r",
       "<br/>Tanaka-inner-loop-iteration=1 MRFWeightsTotal=1.65269e+07 beta=0.02\r",
       "<br/>Tanaka-inner-loop-iteration=2 MRFWeightsTotal=1.65314e+07 beta=0.02\r",
       "<br/>Tanaka-inner-loop-iteration=3 MRFWeightsTotal=1.65316e+07 beta=0.02\r",
       "<br/>Tanaka-inner-loop-iteration=4 MRFWeightsTotal=1.65316e+07 beta=0.02\r",
       "<br/> CLASS 1 MEAN 185.944 STDDEV 169.821 CLASS 2 MEAN 376.584 STDDEV 83.1255 CLASS 3 MEAN 661.845 STDDEV 64.6685\r",
       "<br/>Tanaka Iteration 8 bias field 10\r",
       "<br/>Tanaka-inner-loop-iteration=0 MRFWeightsTotal=1.6341e+07 beta=0.02\r",
       "<br/>Tanaka-inner-loop-iteration=1 MRFWeightsTotal=1.653e+07 beta=0.02\r",
       "<br/>Tanaka-inner-loop-iteration=2 MRFWeightsTotal=1.65345e+07 beta=0.02\r",
       "<br/>Tanaka-inner-loop-iteration=3 MRFWeightsTotal=1.65347e+07 beta=0.02\r",
       "<br/>Tanaka-inner-loop-iteration=4 MRFWeightsTotal=1.65347e+07 beta=0.02\r",
       "<br/> CLASS 1 MEAN 186.215 STDDEV 169.806 CLASS 2 MEAN 377.66 STDDEV 83.5791 CLASS 3 MEAN 663.236 STDDEV 63.9323\r",
       "<br/>Tanaka Iteration 9 bias field 10\r",
       "<br/>Tanaka-inner-loop-iteration=0 MRFWeightsTotal=1.63418e+07 beta=0.02\r",
       "<br/>Tanaka-inner-loop-iteration=1 MRFWeightsTotal=1.65307e+07 beta=0.02\r",
       "<br/>Tanaka-inner-loop-iteration=2 MRFWeightsTotal=1.65353e+07 beta=0.02\r",
       "<br/>Tanaka-inner-loop-iteration=3 MRFWeightsTotal=1.65355e+07 beta=0.02\r",
       "<br/>Tanaka-inner-loop-iteration=4 MRFWeightsTotal=1.65355e+07 beta=0.02\r",
       "<br/> CLASS 1 MEAN 186.448 STDDEV 169.831 CLASS 2 MEAN 378.548 STDDEV 84.0269 CLASS 3 MEAN 664.404 STDDEV 63.3376\r",
       "<br/>\r",
       "<br/> tissue 1 470414\r",
       "<br/> tissue 2 617654\r",
       "<br/> tissue 3 489304\r",
       "<br/> total tissue 1.57737e+06\r",
       "<br/>Sun Dec  5 18:35:23 GMT 2021\r",
       "<br/>Extrapolating bias field from central region\r",
       "<br/>Cost is 3.1867e-06\r",
       "<br/>Cost is 6.81304e-07\r",
       "<br/>Sun Dec  5 18:36:05 GMT 2021\r",
       "<br/>Performing brain extraction (using BET)\r",
       "<br/>Sun Dec  5 18:36:08 GMT 2021\r",
       "<br/>Cleaning up intermediate files\r",
       "<br/>Sun Dec  5 18:36:10 GMT 2021\r",
       "<br/>Reorienting to standard orientation\r",
       "<br/>Sun Dec  5 18:36:13 GMT 2021\r",
       "<br/>Automatically cropping the image\r",
       "<br/>Starting Single Image Segmentation\r",
       "<br/>T1-weighted image\r",
       "<br/>Imagesize : 256 x 182 x 193\r",
       "<br/>Pixelsize : 0.88 x 1.2 x 0.88\r",
       "<br/>\r",
       "<br/>1 5.51747\r",
       "<br/>2 5.94096\r",
       "<br/>3 6.37083\r",
       "<br/>KMeans Iteration 0\r",
       "<br/>KMeans Iteration 1\r",
       "<br/>KMeans Iteration 2\r",
       "<br/>KMeans Iteration 3\r",
       "<br/>KMeans Iteration 4\r",
       "<br/>KMeans Iteration 5\r",
       "<br/>KMeans Iteration 6\r",
       "<br/>KMeans Iteration 7\r",
       "<br/>KMeans Iteration 8\r",
       "<br/>KMeans Iteration 9\r",
       "<br/>KMeans Iteration 10\r",
       "<br/>KMeans Iteration 11\r",
       "<br/>KMeans Iteration 12\r",
       "<br/>KMeans Iteration 13\r",
       "<br/>KMeans Iteration 14\r",
       "<br/>Tanaka Iteration 0 bias field 10\r",
       "<br/>Tanaka-inner-loop-iteration=0 MRFWeightsTotal=1.41916e+07 beta=0.02\r",
       "<br/>Tanaka-inner-loop-iteration=1 MRFWeightsTotal=1.43906e+07 beta=0.02\r",
       "<br/>Tanaka-inner-loop-iteration=2 MRFWeightsTotal=1.43956e+07 beta=0.02\r",
       "<br/>Tanaka-inner-loop-iteration=3 MRFWeightsTotal=1.43958e+07 beta=0.02\r",
       "<br/>Tanaka-inner-loop-iteration=4 MRFWeightsTotal=1.43958e+07 beta=0.02\r",
       "<br/> CLASS 1 MEAN 165.542 STDDEV 174.879 CLASS 2 MEAN 334.962 STDDEV 87.8238 CLASS 3 MEAN 632.226 STDDEV 104.776\r",
       "<br/>Tanaka Iteration 1 bias field 10\r",
       "<br/>Tanaka-inner-loop-iteration=0 MRFWeightsTotal=1.45477e+07 beta=0.02\r",
       "<br/>Tanaka-inner-loop-iteration=1 MRFWeightsTotal=1.47346e+07 beta=0.02\r",
       "<br/>Tanaka-inner-loop-iteration=2 MRFWeightsTotal=1.4739e+07 beta=0.02\r",
       "<br/>Tanaka-inner-loop-iteration=3 MRFWeightsTotal=1.47391e+07 beta=0.02\r",
       "<br/>Tanaka-inner-loop-iteration=4 MRFWeightsTotal=1.47392e+07 beta=0.02\r",
       "<br/> CLASS 1 MEAN 161.082 STDDEV 165.829 CLASS 2 MEAN 338.135 STDDEV 82.1015 CLASS 3 MEAN 603.883 STDDEV 77.3139\r",
       "<br/>Tanaka Iteration 2 bias field 10\r",
       "<br/>Tanaka-inner-loop-iteration=0 MRFWeightsTotal=1.47486e+07 beta=0.02\r",
       "<br/>Tanaka-inner-loop-iteration=1 MRFWeightsTotal=1.49255e+07 beta=0.02\r",
       "<br/>Tanaka-inner-loop-iteration=2 MRFWeightsTotal=1.49296e+07 beta=0.02\r",
       "<br/>Tanaka-inner-loop-iteration=3 MRFWeightsTotal=1.49297e+07 beta=0.02\r",
       "<br/>Tanaka-inner-loop-iteration=4 MRFWeightsTotal=1.49297e+07 beta=0.02\r",
       "<br/> CLASS 1 MEAN 158.575 STDDEV 161.332 CLASS 2 MEAN 339.296 STDDEV 77.1404 CLASS 3 MEAN 602.745 STDDEV 68.7956\r",
       "<br/>Tanaka Iteration 3 bias field 10\r",
       "<br/>Tanaka-inner-loop-iteration=0 MRFWeightsTotal=1.48534e+07 beta=0.02\r",
       "<br/>Tanaka-inner-loop-iteration=1 MRFWeightsTotal=1.50245e+07 beta=0.02\r",
       "<br/>Tanaka-inner-loop-iteration=2 MRFWeightsTotal=1.50284e+07 beta=0.02\r",
       "<br/>Tanaka-inner-loop-iteration=3 MRFWeightsTotal=1.50285e+07 beta=0.02\r",
       "<br/>Tanaka-inner-loop-iteration=4 MRFWeightsTotal=1.50285e+07 beta=0.02\r",
       "<br/> CLASS 1 MEAN 157.774 STDDEV 159.414 CLASS 2 MEAN 340.873 STDDEV 74.8717 CLASS 3 MEAN 605.68 STDDEV 64.6451\r",
       "<br/>Tanaka Iteration 4 bias field 10\r",
       "<br/>Tanaka-inner-loop-iteration=0 MRFWeightsTotal=1.49042e+07 beta=0.02\r",
       "<br/>Tanaka-inner-loop-iteration=1 MRFWeightsTotal=1.50725e+07 beta=0.02\r",
       "<br/>Tanaka-inner-loop-iteration=2 MRFWeightsTotal=1.50764e+07 beta=0.02\r",
       "<br/>Tanaka-inner-loop-iteration=3 MRFWeightsTotal=1.50765e+07 beta=0.02\r",
       "<br/>Tanaka-inner-loop-iteration=4 MRFWeightsTotal=1.50765e+07 beta=0.02\r",
       "<br/> CLASS 1 MEAN 157.954 STDDEV 158.749 CLASS 2 MEAN 342.766 STDDEV 74.2058 CLASS 3 MEAN 608.983 STDDEV 62.0984\r",
       "<br/>Tanaka Iteration 5 bias field 10\r",
       "<br/>Tanaka-inner-loop-iteration=0 MRFWeightsTotal=1.49284e+07 beta=0.02\r",
       "<br/>Tanaka-inner-loop-iteration=1 MRFWeightsTotal=1.50955e+07 beta=0.02\r",
       "<br/>Tanaka-inner-loop-iteration=2 MRFWeightsTotal=1.50993e+07 beta=0.02\r",
       "<br/>Tanaka-inner-loop-iteration=3 MRFWeightsTotal=1.50995e+07 beta=0.02\r",
       "<br/>Tanaka-inner-loop-iteration=4 MRFWeightsTotal=1.50995e+07 beta=0.02\r",
       "<br/> CLASS 1 MEAN 158.458 STDDEV 158.618 CLASS 2 MEAN 344.633 STDDEV 74.3405 CLASS 3 MEAN 611.919 STDDEV 60.2439\r",
       "<br/>Tanaka Iteration 6 bias field 10\r",
       "<br/>Tanaka-inner-loop-iteration=0 MRFWeightsTotal=1.49393e+07 beta=0.02\r",
       "<br/>Tanaka-inner-loop-iteration=1 MRFWeightsTotal=1.51058e+07 beta=0.02\r",
       "<br/>Tanaka-inner-loop-iteration=2 MRFWeightsTotal=1.51097e+07 beta=0.02\r",
       "<br/>Tanaka-inner-loop-iteration=3 MRFWeightsTotal=1.51098e+07 beta=0.02\r",
       "<br/>Tanaka-inner-loop-iteration=4 MRFWeightsTotal=1.51098e+07 beta=0.02\r",
       "<br/> CLASS 1 MEAN 158.993 STDDEV 158.695 CLASS 2 MEAN 346.309 STDDEV 74.8386 CLASS 3 MEAN 614.412 STDDEV 58.7894\r",
       "<br/>Tanaka Iteration 7 bias field 10\r",
       "<br/>Tanaka-inner-loop-iteration=0 MRFWeightsTotal=1.49428e+07 beta=0.02\r",
       "<br/>Tanaka-inner-loop-iteration=1 MRFWeightsTotal=1.51095e+07 beta=0.02\r",
       "<br/>Tanaka-inner-loop-iteration=2 MRFWeightsTotal=1.51134e+07 beta=0.02\r",
       "<br/>Tanaka-inner-loop-iteration=3 MRFWeightsTotal=1.51135e+07 beta=0.02\r",
       "<br/>Tanaka-inner-loop-iteration=4 MRFWeightsTotal=1.51135e+07 beta=0.02\r",
       "<br/> CLASS 1 MEAN 159.471 STDDEV 158.848 CLASS 2 MEAN 347.75 STDDEV 75.4815 CLASS 3 MEAN 616.496 STDDEV 57.586\r",
       "<br/>Tanaka Iteration 8 bias field 10\r",
       "<br/>Tanaka-inner-loop-iteration=0 MRFWeightsTotal=1.49427e+07 beta=0.02\r",
       "<br/>Tanaka-inner-loop-iteration=1 MRFWeightsTotal=1.51094e+07 beta=0.02\r",
       "<br/>Tanaka-inner-loop-iteration=2 MRFWeightsTotal=1.51133e+07 beta=0.02\r",
       "<br/>Tanaka-inner-loop-iteration=3 MRFWeightsTotal=1.51134e+07 beta=0.02\r",
       "<br/>Tanaka-inner-loop-iteration=4 MRFWeightsTotal=1.51135e+07 beta=0.02\r",
       "<br/> CLASS 1 MEAN 159.883 STDDEV 159.032 CLASS 2 MEAN 348.97 STDDEV 76.1553 CLASS 3 MEAN 618.242 STDDEV 56.5926\r",
       "<br/>Tanaka Iteration 9 bias field 10\r",
       "<br/>Tanaka-inner-loop-iteration=0 MRFWeightsTotal=1.49403e+07 beta=0.02\r",
       "<br/>Tanaka-inner-loop-iteration=1 MRFWeightsTotal=1.51073e+07 beta=0.02\r",
       "<br/>Tanaka-inner-loop-iteration=2 MRFWeightsTotal=1.51112e+07 beta=0.02\r",
       "<br/>Tanaka-inner-loop-iteration=3 MRFWeightsTotal=1.51114e+07 beta=0.02\r",
       "<br/>Tanaka-inner-loop-iteration=4 MRFWeightsTotal=1.51114e+07 beta=0.02\r",
       "<br/> CLASS 1 MEAN 160.232 STDDEV 159.223 CLASS 2 MEAN 349.995 STDDEV 76.8053 CLASS 3 MEAN 619.697 STDDEV 55.7573\r",
       "<br/>\r",
       "<br/> tissue 1 419422\r",
       "<br/> tissue 2 576191\r",
       "<br/> tissue 3 431320\r",
       "<br/> total tissue 1.42693e+06\r",
       "<br/>Sun Dec  5 18:40:19 GMT 2021\r",
       "<br/>Extrapolating bias field from central region\r",
       "<br/>Cost is 4.63496e-06\r",
       "<br/>Cost is 1.18606e-06\r",
       "<br/>Sun Dec  5 18:41:01 GMT 2021\r",
       "<br/>Performing brain extraction (using BET)\r",
       "<br/>Sun Dec  5 18:41:03 GMT 2021\r",
       "<br/>Cleaning up intermediate files\r",
       "<br/>Sun Dec  5 18:41:06 GMT 2021\r",
       "<br/>Reorienting to standard orientation\r",
       "<br/>Sun Dec  5 18:41:08 GMT 2021\r",
       "<br/>Automatically cropping the image\r",
       "<br/>Starting Single Image Segmentation\r",
       "<br/>T1-weighted image\r",
       "<br/>Imagesize : 256 x 182 x 193\r",
       "<br/>Pixelsize : 0.88 x 1.2 x 0.88\r",
       "<br/>\r",
       "<br/>1 5.64999\r",
       "<br/>2 6.09711\r",
       "<br/>3 6.54292\r",
       "<br/>KMeans Iteration 0\r",
       "<br/>KMeans Iteration 1\r",
       "<br/>KMeans Iteration 2\r",
       "<br/>KMeans Iteration 3\r",
       "<br/>KMeans Iteration 4\r",
       "<br/>KMeans Iteration 5\r",
       "<br/>KMeans Iteration 6\r",
       "<br/>KMeans Iteration 7\r",
       "<br/>KMeans Iteration 8\r",
       "<br/>KMeans Iteration 9\r",
       "<br/>KMeans Iteration 10\r",
       "<br/>KMeans Iteration 11\r",
       "<br/>KMeans Iteration 12\r",
       "<br/>KMeans Iteration 13\r",
       "<br/>KMeans Iteration 14\r",
       "<br/>Tanaka Iteration 0 bias field 10\r",
       "<br/>Tanaka-inner-loop-iteration=0 MRFWeightsTotal=1.65018e+07 beta=0.02\r",
       "<br/>Tanaka-inner-loop-iteration=1 MRFWeightsTotal=1.67435e+07 beta=0.02\r",
       "<br/>Tanaka-inner-loop-iteration=2 MRFWeightsTotal=1.67504e+07 beta=0.02\r",
       "<br/>Tanaka-inner-loop-iteration=3 MRFWeightsTotal=1.67506e+07 beta=0.02\r",
       "<br/>Tanaka-inner-loop-iteration=4 MRFWeightsTotal=1.67506e+07 beta=0.02\r",
       "<br/> CLASS 1 MEAN 219.605 STDDEV 217.816 CLASS 2 MEAN 379.468 STDDEV 110.353 CLASS 3 MEAN 751.674 STDDEV 135.593\r",
       "<br/>Tanaka Iteration 1 bias field 10\r",
       "<br/>Tanaka-inner-loop-iteration=0 MRFWeightsTotal=1.68674e+07 beta=0.02\r",
       "<br/>Tanaka-inner-loop-iteration=1 MRFWeightsTotal=1.70964e+07 beta=0.02\r",
       "<br/>Tanaka-inner-loop-iteration=2 MRFWeightsTotal=1.71025e+07 beta=0.02\r",
       "<br/>Tanaka-inner-loop-iteration=3 MRFWeightsTotal=1.71027e+07 beta=0.02\r",
       "<br/>Tanaka-inner-loop-iteration=4 MRFWeightsTotal=1.71027e+07 beta=0.02\r",
       "<br/> CLASS 1 MEAN 216.836 STDDEV 205.624 CLASS 2 MEAN 383.138 STDDEV 103.629 CLASS 3 MEAN 715.145 STDDEV 102.665\r",
       "<br/>Tanaka Iteration 2 bias field 10\r",
       "<br/>Tanaka-inner-loop-iteration=0 MRFWeightsTotal=1.70802e+07 beta=0.02\r",
       "<br/>Tanaka-inner-loop-iteration=1 MRFWeightsTotal=1.72996e+07 beta=0.02\r",
       "<br/>Tanaka-inner-loop-iteration=2 MRFWeightsTotal=1.73053e+07 beta=0.02\r",
       "<br/>Tanaka-inner-loop-iteration=3 MRFWeightsTotal=1.73055e+07 beta=0.02\r",
       "<br/>Tanaka-inner-loop-iteration=4 MRFWeightsTotal=1.73055e+07 beta=0.02\r",
       "<br/> CLASS 1 MEAN 215.231 STDDEV 202.637 CLASS 2 MEAN 384.399 STDDEV 97.7333 CLASS 3 MEAN 711.691 STDDEV 91.7476\r",
       "<br/>Tanaka Iteration 3 bias field 10\r",
       "<br/>Tanaka-inner-loop-iteration=0 MRFWeightsTotal=1.71996e+07 beta=0.02\r",
       "<br/>Tanaka-inner-loop-iteration=1 MRFWeightsTotal=1.74127e+07 beta=0.02\r",
       "<br/>Tanaka-inner-loop-iteration=2 MRFWeightsTotal=1.74183e+07 beta=0.02\r",
       "<br/>Tanaka-inner-loop-iteration=3 MRFWeightsTotal=1.74185e+07 beta=0.02\r",
       "<br/>Tanaka-inner-loop-iteration=4 MRFWeightsTotal=1.74185e+07 beta=0.02\r",
       "<br/> CLASS 1 MEAN 214.973 STDDEV 201.96 CLASS 2 MEAN 385.952 STDDEV 94.8006 CLASS 3 MEAN 714.288 STDDEV 86.5427\r",
       "<br/>Tanaka Iteration 4 bias field 10\r",
       "<br/>Tanaka-inner-loop-iteration=0 MRFWeightsTotal=1.72657e+07 beta=0.02\r",
       "<br/>Tanaka-inner-loop-iteration=1 MRFWeightsTotal=1.74753e+07 beta=0.02\r",
       "<br/>Tanaka-inner-loop-iteration=2 MRFWeightsTotal=1.74808e+07 beta=0.02\r",
       "<br/>Tanaka-inner-loop-iteration=3 MRFWeightsTotal=1.7481e+07 beta=0.02\r",
       "<br/>Tanaka-inner-loop-iteration=4 MRFWeightsTotal=1.7481e+07 beta=0.02\r",
       "<br/> CLASS 1 MEAN 215.356 STDDEV 201.786 CLASS 2 MEAN 387.887 STDDEV 93.7079 CLASS 3 MEAN 717.842 STDDEV 83.4173\r",
       "<br/>Tanaka Iteration 5 bias field 10\r",
       "<br/>Tanaka-inner-loop-iteration=0 MRFWeightsTotal=1.73043e+07 beta=0.02\r",
       "<br/>Tanaka-inner-loop-iteration=1 MRFWeightsTotal=1.75119e+07 beta=0.02\r",
       "<br/>Tanaka-inner-loop-iteration=2 MRFWeightsTotal=1.75173e+07 beta=0.02\r",
       "<br/>Tanaka-inner-loop-iteration=3 MRFWeightsTotal=1.75175e+07 beta=0.02\r",
       "<br/>Tanaka-inner-loop-iteration=4 MRFWeightsTotal=1.75175e+07 beta=0.02\r",
       "<br/> CLASS 1 MEAN 215.88 STDDEV 201.698 CLASS 2 MEAN 389.908 STDDEV 93.5922 CLASS 3 MEAN 721.223 STDDEV 81.2006\r",
       "<br/>Tanaka Iteration 6 bias field 10\r",
       "<br/>Tanaka-inner-loop-iteration=0 MRFWeightsTotal=1.73282e+07 beta=0.02\r",
       "<br/>Tanaka-inner-loop-iteration=1 MRFWeightsTotal=1.75345e+07 beta=0.02\r",
       "<br/>Tanaka-inner-loop-iteration=2 MRFWeightsTotal=1.75399e+07 beta=0.02\r",
       "<br/>Tanaka-inner-loop-iteration=3 MRFWeightsTotal=1.75401e+07 beta=0.02\r",
       "<br/>Tanaka-inner-loop-iteration=4 MRFWeightsTotal=1.75401e+07 beta=0.02\r",
       "<br/> CLASS 1 MEAN 216.357 STDDEV 201.605 CLASS 2 MEAN 391.82 STDDEV 93.9596 CLASS 3 MEAN 724.219 STDDEV 79.4622\r",
       "<br/>Tanaka Iteration 7 bias field 10\r",
       "<br/>Tanaka-inner-loop-iteration=0 MRFWeightsTotal=1.73435e+07 beta=0.02\r",
       "<br/>Tanaka-inner-loop-iteration=1 MRFWeightsTotal=1.7549e+07 beta=0.02\r",
       "<br/>Tanaka-inner-loop-iteration=2 MRFWeightsTotal=1.75544e+07 beta=0.02\r",
       "<br/>Tanaka-inner-loop-iteration=3 MRFWeightsTotal=1.75546e+07 beta=0.02\r",
       "<br/>Tanaka-inner-loop-iteration=4 MRFWeightsTotal=1.75546e+07 beta=0.02\r",
       "<br/> CLASS 1 MEAN 216.753 STDDEV 201.507 CLASS 2 MEAN 393.544 STDDEV 94.5458 CLASS 3 MEAN 726.831 STDDEV 78.0218\r",
       "<br/>Tanaka Iteration 8 bias field 10\r",
       "<br/>Tanaka-inner-loop-iteration=0 MRFWeightsTotal=1.73535e+07 beta=0.02\r",
       "<br/>Tanaka-inner-loop-iteration=1 MRFWeightsTotal=1.75587e+07 beta=0.02\r",
       "<br/>Tanaka-inner-loop-iteration=2 MRFWeightsTotal=1.75642e+07 beta=0.02\r",
       "<br/>Tanaka-inner-loop-iteration=3 MRFWeightsTotal=1.75643e+07 beta=0.02\r",
       "<br/>Tanaka-inner-loop-iteration=4 MRFWeightsTotal=1.75643e+07 beta=0.02\r",
       "<br/> CLASS 1 MEAN 217.079 STDDEV 201.416 CLASS 2 MEAN 395.067 STDDEV 95.2079 CLASS 3 MEAN 729.103 STDDEV 76.7938\r",
       "<br/>Tanaka Iteration 9 bias field 10\r",
       "<br/>Tanaka-inner-loop-iteration=0 MRFWeightsTotal=1.73604e+07 beta=0.02\r",
       "<br/>Tanaka-inner-loop-iteration=1 MRFWeightsTotal=1.75652e+07 beta=0.02\r",
       "<br/>Tanaka-inner-loop-iteration=2 MRFWeightsTotal=1.75706e+07 beta=0.02\r",
       "<br/>Tanaka-inner-loop-iteration=3 MRFWeightsTotal=1.75708e+07 beta=0.02\r",
       "<br/>Tanaka-inner-loop-iteration=4 MRFWeightsTotal=1.75708e+07 beta=0.02\r",
       "<br/> CLASS 1 MEAN 217.352 STDDEV 201.337 CLASS 2 MEAN 396.401 STDDEV 95.8845 CLASS 3 MEAN 731.085 STDDEV 75.7536\r",
       "<br/>\r",
       "<br/> tissue 1 537032\r",
       "<br/> tissue 2 677637\r",
       "<br/> tissue 3 528753\r",
       "<br/> total tissue 1.74342e+06\r",
       "<br/>Sun Dec  5 18:45:36 GMT 2021\r",
       "<br/>Extrapolating bias field from central region\r",
       "<br/>Cost is 2.69744e-05\r",
       "<br/>Cost is 1.22543e-05\r",
       "<br/>Sun Dec  5 18:46:16 GMT 2021\r",
       "<br/>Performing brain extraction (using BET)\r",
       "<br/>Sun Dec  5 18:46:19 GMT 2021\r",
       "<br/>Cleaning up intermediate files\r",
       "<br/></details>"
      ],
      "text/plain": [
       "<IPython.core.display.HTML object>"
      ]
     },
     "metadata": {},
     "output_type": "display_data"
    }
   ],
   "source": [
    "# Bias Field Correction\n",
    "with colapsible_stdout(\"fsl_anat\"):\n",
    "    !for sub in raw_data/sub*; do \\\n",
    "        fsl_anat -i $sub -o anat_corr/${sub:8:15} --noreg --nononlinreg --noseg --nosubcortseg ;\\\n",
    "    done\n"
   ]
  },
  {
   "cell_type": "code",
   "execution_count": 12,
   "id": "45ec28f8-e7b6-4b76-8b86-6546016bb060",
   "metadata": {},
   "outputs": [],
   "source": [
    "for sub in sub_list:\n",
    "    file = 'anat_corr/{}_ses-1_.anat/T1_biascorr.nii.gz'.format(sub)\n",
    "    copy(file, '{}.nii.gz'.format(sub))"
   ]
  },
  {
   "cell_type": "markdown",
   "id": "0937e8ba-b8f4-4cda-a704-e9b28b656bd4",
   "metadata": {},
   "source": [
    "### Create template list\n",
    "Since images are balanced, so we pick them all. "
   ]
  },
  {
   "cell_type": "code",
   "execution_count": 62,
   "id": "6d3e5764-1257-449f-8cec-0a1f66509b55",
   "metadata": {},
   "outputs": [],
   "source": [
    "%%script bash\n",
    "for sub in sub*.nii.gz; do\n",
    "echo $sub >> template_list.txt\n",
    "done"
   ]
  },
  {
   "cell_type": "code",
   "execution_count": 63,
   "id": "f091818f-5366-4e14-98c1-03973302a027",
   "metadata": {},
   "outputs": [
    {
     "name": "stdout",
     "output_type": "stream",
     "text": [
      "sub-101.nii.gz\n",
      "sub-102.nii.gz\n",
      "sub-201.nii.gz\n"
     ]
    }
   ],
   "source": [
    "# check template_list\n",
    "!head -n 3 template_list.txt"
   ]
  },
  {
   "cell_type": "markdown",
   "id": "775b32e8-ccc8-4096-bd95-de1b14d90212",
   "metadata": {
    "tags": []
   },
   "source": [
    "### Create glm model"
   ]
  },
  {
   "cell_type": "code",
   "execution_count": 65,
   "id": "95a55391-2e17-4714-9177-0e1256fa8a66",
   "metadata": {},
   "outputs": [],
   "source": [
    "#!gedit ./design/design.mat"
   ]
  },
  {
   "cell_type": "code",
   "execution_count": 66,
   "id": "838f563a-2e9a-4ea4-9759-8435eab08ca7",
   "metadata": {},
   "outputs": [],
   "source": [
    "#!gedit ./design/design.con"
   ]
  },
  {
   "cell_type": "code",
   "execution_count": 64,
   "id": "1871711d-43ea-4a9d-aaa7-ce901c0046f6",
   "metadata": {},
   "outputs": [],
   "source": [
    "!Glm"
   ]
  },
  {
   "cell_type": "code",
   "execution_count": 69,
   "id": "aaf380e6-e698-42c7-b65b-fdb525e537cf",
   "metadata": {},
   "outputs": [
    {
     "data": {
      "text/plain": [
       "<matplotlib.image.AxesImage at 0x7fa6c8fcfb50>"
      ]
     },
     "execution_count": 69,
     "metadata": {},
     "output_type": "execute_result"
    },
    {
     "data": {
      "image/png": "[encoded data removed]",
      "text/plain": [
       "<Figure size 432x576 with 1 Axes>"
      ]
     },
     "metadata": {
      "needs_background": "light"
     },
     "output_type": "display_data"
    }
   ],
   "source": [
    "plt.figure(figsize=(6, 8))\n",
    "im = plt.imread('./stats/design.png')\n",
    "plt.imshow(im)"
   ]
  },
  {
   "cell_type": "markdown",
   "id": "75f07909-665b-4882-b502-2827fb28f257",
   "metadata": {},
   "source": [
    "## Run VBM"
   ]
  },
  {
   "cell_type": "code",
   "execution_count": 73,
   "id": "d89753b6-eff8-4557-9ce6-cc69ace5b7e9",
   "metadata": {},
   "outputs": [
    {
     "data": {
      "text/html": [
       "<details><summary>fslvbm_1_bet</summary>sub-101_struc\r",
       "<br/>sub-102_struc\r",
       "<br/>sub-201_struc\r",
       "<br/>sub-202_struc\r",
       "<br/>Done running BET, now running slicesdir:\r",
       "<br/>sub-101_struc\r",
       "<br/>sub-102_struc\r",
       "<br/>sub-201_struc\r",
       "<br/>sub-202_struc\r",
       "<br/>\r",
       "<br/>Finished. To view, point your web browser at\r",
       "<br/>file:/home/jzni/fsl_jupyter/example_data/vbm/struc/slicesdir/index.html\r",
       "<br/></details>"
      ],
      "text/plain": [
       "<IPython.core.display.HTML object>"
      ]
     },
     "metadata": {},
     "output_type": "display_data"
    },
    {
     "name": "stdout",
     "output_type": "stream",
     "text": [
      "CPU times: user 392 ms, sys: 68.9 ms, total: 461 ms\n",
      "Wall time: 2min 26s\n"
     ]
    }
   ],
   "source": [
    "%%time\n",
    "with colapsible_stdout(\"fslvbm_1_bet\"):\n",
    "    !fslvbm_1_bet -N "
   ]
  },
  {
   "cell_type": "code",
   "execution_count": 74,
   "id": "0e7a1eca-6151-4754-a928-1e9efede307a",
   "metadata": {},
   "outputs": [
    {
     "data": {
      "text/html": [
       "<details><summary>fslvbm_2_template</summary>sub-101_struc\r",
       "<br/>sub-102_struc\r",
       "<br/>sub-201_struc\r",
       "<br/>sub-202_struc\r",
       "<br/>Running segmentation: ID=14948\r",
       "<br/>Running initial registration: ID=15447\r",
       "<br/>Creating first-pass template: ID=15897\r",
       "<br/>Running registration to first-pass template: ID=16036\r",
       "<br/>Creating second-pass template: ID=17258\r",
       "<br/>Study-specific template will be created, when complete, check results with:\r",
       "<br/>fslview struc/template_4D_GM\r",
       "<br/>and turn on the movie loop to check all subjects, then run:\r",
       "<br/>fslview  /home/jzni/FSL/fsl/data/standard/tissuepriors/avg152T1_gray  struc/template_GM\r",
       "<br/>to check general alignment of mean GM template vs. original standard space template.\r",
       "<br/></details>"
      ],
      "text/plain": [
       "<IPython.core.display.HTML object>"
      ]
     },
     "metadata": {},
     "output_type": "display_data"
    },
    {
     "name": "stdout",
     "output_type": "stream",
     "text": [
      "CPU times: user 4.03 s, sys: 717 ms, total: 4.74 s\n",
      "Wall time: 25min 58s\n"
     ]
    }
   ],
   "source": [
    "%%time\n",
    "with colapsible_stdout(\"fslvbm_2_template\"):\n",
    "    !fslvbm_2_template -n"
   ]
  },
  {
   "cell_type": "code",
   "execution_count": 75,
   "id": "1e61fc83-a965-49a2-a351-b0fa286d0a75",
   "metadata": {},
   "outputs": [
    {
     "data": {
      "text/html": [
       "<details><summary>fslvbm_3_proc</summary>Now running the preprocessing steps and the pre-analyses\r",
       "<br/>sub-101_struc\r",
       "<br/>sub-102_struc\r",
       "<br/>sub-201_struc\r",
       "<br/>sub-202_struc\r",
       "<br/>Doing registrations: ID=17404\r",
       "<br/>/bin/cp: cannot stat '../design.*': No such file or directory\r",
       "<br/>ERROR: Program failedUnable to open design.mat\r",
       "<br/>\r",
       "<br/>Exiting\r",
       "<br/>ERROR: Program failedUnable to open design.mat\r",
       "<br/>\r",
       "<br/>Exiting\r",
       "<br/>ERROR: Program failedUnable to open design.mat\r",
       "<br/>\r",
       "<br/>Exiting\r",
       "<br/>Doing subject concatenation and initial randomise: ID=\r",
       "<br/>Once this has finished, run randomise with 5000 permutations on the 'best' smoothed 4D GM_mod_merg. We recommend using the -T (TFCE) option. For example:\r",
       "<br/>randomise -i GM_mod_merg_s3 -o GM_mod_merg_s3 -m GM_mask -d design.mat -t design.con -n 5000 -T -V\r",
       "<br/></details>"
      ],
      "text/plain": [
       "<IPython.core.display.HTML object>"
      ]
     },
     "metadata": {},
     "output_type": "display_data"
    },
    {
     "name": "stdout",
     "output_type": "stream",
     "text": [
      "CPU times: user 2.32 s, sys: 471 ms, total: 2.79 s\n",
      "Wall time: 15min 36s\n"
     ]
    }
   ],
   "source": [
    "%%time\n",
    "with colapsible_stdout(\"fslvbm_3_proc\"):\n",
    "    !fslvbm_3_proc"
   ]
  },
  {
   "cell_type": "markdown",
   "id": "feff051a-3448-4ea6-8586-499d4e2cf2f2",
   "metadata": {},
   "source": [
    "# Ending"
   ]
  },
  {
   "cell_type": "code",
   "execution_count": null,
   "id": "64f101f1-a85b-4a40-bb85-7399d0343636",
   "metadata": {},
   "outputs": [],
   "source": [
    "from notebook.services.contents import checkpoints\n",
    "checkpoints.Checkpoints.delete_all_checkpoints"
   ]
  }
 ],
 "metadata": {
  "kernelspec": {
   "display_name": "Python 3 (ipykernel)",
   "language": "python",
   "name": "python3"
  },
  "language_info": {
   "codemirror_mode": {
    "name": "ipython",
    "version": 3
   },
   "file_extension": ".py",
   "mimetype": "text/x-python",
   "name": "python",
   "nbconvert_exporter": "python",
   "pygments_lexer": "ipython3",
   "version": "3.8.12"
  }
 },
 "nbformat": 4,
 "nbformat_minor": 5
}